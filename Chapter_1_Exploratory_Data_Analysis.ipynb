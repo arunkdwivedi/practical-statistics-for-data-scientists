{
  "cells": [
    {
      "cell_type": "markdown",
      "metadata": {
        "id": "view-in-github",
        "colab_type": "text"
      },
      "source": [
        "<a href=\"https://colab.research.google.com/github/arunkdwivedi/practical-statistics-for-data-scientists/blob/Practice/Chapter_1_Exploratory_Data_Analysis.ipynb\" target=\"_parent\"><img src=\"https://colab.research.google.com/assets/colab-badge.svg\" alt=\"Open In Colab\"/></a>"
      ]
    },
    {
      "cell_type": "markdown",
      "metadata": {
        "id": "-bParjm6mE0L"
      },
      "source": [
        "Import required Python packages."
      ]
    },
    {
      "cell_type": "code",
      "source": [
        "!pip install wquantiles"
      ],
      "metadata": {
        "colab": {
          "base_uri": "https://localhost:8080/"
        },
        "id": "DZXnIVpgnvrf",
        "outputId": "2e8dea60-ad33-46d2-8898-41daa642185b"
      },
      "execution_count": 3,
      "outputs": [
        {
          "output_type": "stream",
          "name": "stdout",
          "text": [
            "Looking in indexes: https://pypi.org/simple, https://us-python.pkg.dev/colab-wheels/public/simple/\n",
            "Collecting wquantiles\n",
            "  Downloading wquantiles-0.6-py3-none-any.whl (3.3 kB)\n",
            "Requirement already satisfied: numpy>=1.18 in /usr/local/lib/python3.7/dist-packages (from wquantiles) (1.21.6)\n",
            "Installing collected packages: wquantiles\n",
            "Successfully installed wquantiles-0.6\n"
          ]
        }
      ]
    },
    {
      "cell_type": "code",
      "execution_count": 4,
      "metadata": {
        "execution": {
          "iopub.execute_input": "2021-02-23T16:10:40.469184Z",
          "iopub.status.busy": "2021-02-23T16:10:40.468421Z",
          "iopub.status.idle": "2021-02-23T16:10:41.230660Z",
          "shell.execute_reply": "2021-02-23T16:10:41.230115Z"
        },
        "id": "aii3MJ0tmE0M"
      },
      "outputs": [],
      "source": [
        "%matplotlib inline\n",
        "\n",
        "from pathlib import Path\n",
        "\n",
        "import pandas as pd\n",
        "import numpy as np\n",
        "from scipy.stats import trim_mean\n",
        "from statsmodels import robust\n",
        "import wquantiles\n",
        "\n",
        "import seaborn as sns\n",
        "import matplotlib.pylab as plt"
      ]
    },
    {
      "cell_type": "code",
      "execution_count": null,
      "metadata": {
        "execution": {
          "iopub.execute_input": "2021-02-23T16:10:41.235522Z",
          "iopub.status.busy": "2021-02-23T16:10:41.234296Z",
          "iopub.status.idle": "2021-02-23T16:10:41.526756Z",
          "shell.execute_reply": "2021-02-23T16:10:41.526179Z"
        },
        "id": "yGZ1I0-cmE0N"
      },
      "outputs": [],
      "source": [
        "try:\n",
        "    import common\n",
        "    DATA = common.dataDirectory()\n",
        "except ImportError:\n",
        "    DATA = Path().resolve() / 'data'"
      ]
    },
    {
      "cell_type": "code",
      "source": [
        "DATA='/content/drive/MyDrive/Practical statistics for data science/data'"
      ],
      "metadata": {
        "id": "patVNPLct4wW"
      },
      "execution_count": 5,
      "outputs": []
    },
    {
      "cell_type": "markdown",
      "metadata": {
        "id": "f07LnIRamE0N"
      },
      "source": [
        "Define paths to data sets. If you don't keep your data in the same directory as the code, adapt the path names."
      ]
    },
    {
      "cell_type": "code",
      "execution_count": 27,
      "metadata": {
        "execution": {
          "iopub.execute_input": "2021-02-23T16:10:41.530425Z",
          "iopub.status.busy": "2021-02-23T16:10:41.529936Z",
          "iopub.status.idle": "2021-02-23T16:10:41.533202Z",
          "shell.execute_reply": "2021-02-23T16:10:41.532713Z"
        },
        "id": "N2KniJD-mE0N"
      },
      "outputs": [],
      "source": [
        "AIRLINE_STATS_CSV = DATA+'/airline_stats.csv'\n",
        "STATE_CSV = DATA +'/state.csv'\n",
        "KC_TAX_CSV = DATA +'/kc_tax.csv.gz'\n",
        "LC_LOANS_CSV = DATA+'/lc_loans.csv'\n",
        "AIRPORT_DELAYS_CSV = DATA+'/dfw_airline.csv'\n",
        "SP500_DATA_CSV = DATA+'/sp500_data.csv.gz'\n",
        "SP500_SECTORS_CSV = DATA+'/sp500_sectors.csv'\n"
      ]
    },
    {
      "cell_type": "markdown",
      "metadata": {
        "id": "2duMs2-cmE0O"
      },
      "source": [
        "# Estimates of Location\n",
        "## Example: Location Estimates of Population and Murder Rates"
      ]
    },
    {
      "cell_type": "code",
      "source": [
        "from google.colab import drive\n",
        "drive.mount('/content/drive')"
      ],
      "metadata": {
        "colab": {
          "base_uri": "https://localhost:8080/"
        },
        "id": "zOfc55eFqGQD",
        "outputId": "67743934-9e49-4dd6-c71b-296eea54e34c"
      },
      "execution_count": 7,
      "outputs": [
        {
          "output_type": "stream",
          "name": "stdout",
          "text": [
            "Mounted at /content/drive\n"
          ]
        }
      ]
    },
    {
      "cell_type": "code",
      "execution_count": 8,
      "metadata": {
        "execution": {
          "iopub.execute_input": "2021-02-23T16:10:41.537074Z",
          "iopub.status.busy": "2021-02-23T16:10:41.536575Z",
          "iopub.status.idle": "2021-02-23T16:10:41.548527Z",
          "shell.execute_reply": "2021-02-23T16:10:41.548116Z"
        },
        "colab": {
          "base_uri": "https://localhost:8080/"
        },
        "id": "qWK6lF5amE0O",
        "outputId": "a153925c-32a1-44d9-f35b-a1d31167ff94"
      },
      "outputs": [
        {
          "output_type": "stream",
          "name": "stdout",
          "text": [
            "             State  Population  Murder.Rate Abbreviation\n",
            "0          Alabama     4779736          5.7           AL\n",
            "1           Alaska      710231          5.6           AK\n",
            "2          Arizona     6392017          4.7           AZ\n",
            "3         Arkansas     2915918          5.6           AR\n",
            "4       California    37253956          4.4           CA\n",
            "5         Colorado     5029196          2.8           CO\n",
            "6      Connecticut     3574097          2.4           CT\n",
            "7         Delaware      897934          5.8           DE\n",
            "8          Florida    18801310          5.8           FL\n",
            "9          Georgia     9687653          5.7           GA\n",
            "10          Hawaii     1360301          1.8           HI\n",
            "11           Idaho     1567582          2.0           ID\n",
            "12        Illinois    12830632          5.3           IL\n",
            "13         Indiana     6483802          5.0           IN\n",
            "14            Iowa     3046355          1.9           IA\n",
            "15          Kansas     2853118          3.1           KS\n",
            "16        Kentucky     4339367          3.6           KY\n",
            "17       Louisiana     4533372         10.3           LA\n",
            "18           Maine     1328361          1.6           ME\n",
            "19        Maryland     5773552          6.1           MD\n",
            "20   Massachusetts     6547629          2.0           MA\n",
            "21        Michigan     9883640          5.4           MI\n",
            "22       Minnesota     5303925          1.6           MN\n",
            "23     Mississippi     2967297          8.6           MS\n",
            "24        Missouri     5988927          6.6           MO\n",
            "25         Montana      989415          3.6           MT\n",
            "26        Nebraska     1826341          2.9           NE\n",
            "27          Nevada     2700551          6.0           NV\n",
            "28   New Hampshire     1316470          0.9           NH\n",
            "29      New Jersey     8791894          3.9           NJ\n",
            "30      New Mexico     2059179          4.8           NM\n",
            "31        New York    19378102          3.1           NY\n",
            "32  North Carolina     9535483          5.1           NC\n",
            "33    North Dakota      672591          3.0           ND\n",
            "34            Ohio    11536504          4.0           OH\n",
            "35        Oklahoma     3751351          4.5           OK\n",
            "36          Oregon     3831074          2.0           OR\n",
            "37    Pennsylvania    12702379          4.8           PA\n",
            "38    Rhode Island     1052567          2.4           RI\n",
            "39  South Carolina     4625364          6.4           SC\n",
            "40    South Dakota      814180          2.3           SD\n",
            "41       Tennessee     6346105          5.7           TN\n",
            "42           Texas    25145561          4.4           TX\n",
            "43            Utah     2763885          2.3           UT\n",
            "44         Vermont      625741          1.6           VT\n",
            "45        Virginia     8001024          4.1           VA\n",
            "46      Washington     6724540          2.5           WA\n",
            "47   West Virginia     1852994          4.0           WV\n",
            "48       Wisconsin     5686986          2.9           WI\n",
            "49         Wyoming      563626          2.7           WY\n"
          ]
        }
      ],
      "source": [
        "# Table 1-2\n",
        "state = pd.read_csv(STATE_CSV)\n",
        "print(state)"
      ]
    },
    {
      "cell_type": "markdown",
      "metadata": {
        "id": "txOrNwkhmE0P"
      },
      "source": [
        "Compute the mean, trimmed mean, and median for Population. For `mean` and `median` we can use the _pandas_ methods of the data frame. The trimmed mean requires the `trim_mean` function in _scipy.stats_."
      ]
    },
    {
      "cell_type": "code",
      "execution_count": 9,
      "metadata": {
        "execution": {
          "iopub.execute_input": "2021-02-23T16:10:41.552251Z",
          "iopub.status.busy": "2021-02-23T16:10:41.551748Z",
          "iopub.status.idle": "2021-02-23T16:10:41.559873Z",
          "shell.execute_reply": "2021-02-23T16:10:41.559390Z"
        },
        "colab": {
          "base_uri": "https://localhost:8080/"
        },
        "id": "xBYzSm-DmE0P",
        "outputId": "3c2614b2-607d-4aa8-a847-2c6a60b8b7b9"
      },
      "outputs": [
        {
          "output_type": "stream",
          "name": "stdout",
          "text": [
            "6162876.3\n"
          ]
        }
      ],
      "source": [
        "\n",
        "print(state['Population'].mean())"
      ]
    },
    {
      "cell_type": "code",
      "execution_count": 10,
      "metadata": {
        "execution": {
          "iopub.execute_input": "2021-02-23T16:10:41.564374Z",
          "iopub.status.busy": "2021-02-23T16:10:41.563609Z",
          "iopub.status.idle": "2021-02-23T16:10:41.566549Z",
          "shell.execute_reply": "2021-02-23T16:10:41.565992Z"
        },
        "colab": {
          "base_uri": "https://localhost:8080/"
        },
        "id": "gseej_RTmE0Q",
        "outputId": "b7042a4c-e68c-4cf9-b072-55c8cfa6a58d"
      },
      "outputs": [
        {
          "output_type": "stream",
          "name": "stdout",
          "text": [
            "4783697.125\n"
          ]
        }
      ],
      "source": [
        "print(trim_mean(state['Population'], 0.1))"
      ]
    },
    {
      "cell_type": "code",
      "execution_count": 11,
      "metadata": {
        "execution": {
          "iopub.execute_input": "2021-02-23T16:10:41.569837Z",
          "iopub.status.busy": "2021-02-23T16:10:41.569401Z",
          "iopub.status.idle": "2021-02-23T16:10:41.572488Z",
          "shell.execute_reply": "2021-02-23T16:10:41.572028Z"
        },
        "colab": {
          "base_uri": "https://localhost:8080/"
        },
        "id": "9XXHYZ9FmE0Q",
        "outputId": "1cc73775-5e77-4ac0-cd65-1dd17c947888"
      },
      "outputs": [
        {
          "output_type": "stream",
          "name": "stdout",
          "text": [
            "4436369.5\n"
          ]
        }
      ],
      "source": [
        "print(state['Population'].median())"
      ]
    },
    {
      "cell_type": "markdown",
      "metadata": {
        "id": "uj_c9cRVmE0Q"
      },
      "source": [
        "Weighted mean is available with numpy. For weighted median, we can use the specialised package `wquantiles` (https://pypi.org/project/wquantiles/)."
      ]
    },
    {
      "cell_type": "code",
      "execution_count": 12,
      "metadata": {
        "execution": {
          "iopub.execute_input": "2021-02-23T16:10:41.575657Z",
          "iopub.status.busy": "2021-02-23T16:10:41.575245Z",
          "iopub.status.idle": "2021-02-23T16:10:41.578181Z",
          "shell.execute_reply": "2021-02-23T16:10:41.577688Z"
        },
        "id": "2PQhkqAjmE0Q",
        "outputId": "0eda1491-bcac-4253-cea9-f366d8a8e22a",
        "colab": {
          "base_uri": "https://localhost:8080/"
        }
      },
      "outputs": [
        {
          "output_type": "stream",
          "name": "stdout",
          "text": [
            "4.066\n"
          ]
        }
      ],
      "source": [
        "print(state['Murder.Rate'].mean())"
      ]
    },
    {
      "cell_type": "code",
      "execution_count": 13,
      "metadata": {
        "execution": {
          "iopub.execute_input": "2021-02-23T16:10:41.581543Z",
          "iopub.status.busy": "2021-02-23T16:10:41.581063Z",
          "iopub.status.idle": "2021-02-23T16:10:41.583949Z",
          "shell.execute_reply": "2021-02-23T16:10:41.583442Z"
        },
        "id": "9xzG0b_3mE0R",
        "outputId": "d4f171df-f09e-490e-db1e-58f694f54b33",
        "colab": {
          "base_uri": "https://localhost:8080/"
        }
      },
      "outputs": [
        {
          "output_type": "stream",
          "name": "stdout",
          "text": [
            "4.445833981123393\n"
          ]
        }
      ],
      "source": [
        "print(np.average(state['Murder.Rate'], weights=state['Population']))"
      ]
    },
    {
      "cell_type": "code",
      "execution_count": 14,
      "metadata": {
        "execution": {
          "iopub.execute_input": "2021-02-23T16:10:41.587053Z",
          "iopub.status.busy": "2021-02-23T16:10:41.586609Z",
          "iopub.status.idle": "2021-02-23T16:10:41.589695Z",
          "shell.execute_reply": "2021-02-23T16:10:41.589335Z"
        },
        "scrolled": true,
        "id": "NJ91yp3YmE0R",
        "outputId": "ee0dcff0-75ee-4a2c-c811-d94206db30f5",
        "colab": {
          "base_uri": "https://localhost:8080/"
        }
      },
      "outputs": [
        {
          "output_type": "stream",
          "name": "stdout",
          "text": [
            "4.4\n"
          ]
        }
      ],
      "source": [
        "print(wquantiles.median(state['Murder.Rate'], weights=state['Population']))"
      ]
    },
    {
      "cell_type": "markdown",
      "metadata": {
        "id": "kZ80qi1UmE0R"
      },
      "source": [
        "# Estimates of Variability"
      ]
    },
    {
      "cell_type": "code",
      "execution_count": 15,
      "metadata": {
        "execution": {
          "iopub.execute_input": "2021-02-23T16:10:41.594855Z",
          "iopub.status.busy": "2021-02-23T16:10:41.594331Z",
          "iopub.status.idle": "2021-02-23T16:10:41.597854Z",
          "shell.execute_reply": "2021-02-23T16:10:41.597356Z"
        },
        "id": "Vk8FALRFmE0R",
        "outputId": "6b20d48e-2b84-4198-cd1a-01e9f6ac8930",
        "colab": {
          "base_uri": "https://localhost:8080/"
        }
      },
      "outputs": [
        {
          "output_type": "stream",
          "name": "stdout",
          "text": [
            "         State  Population  Murder.Rate Abbreviation\n",
            "0      Alabama     4779736          5.7           AL\n",
            "1       Alaska      710231          5.6           AK\n",
            "2      Arizona     6392017          4.7           AZ\n",
            "3     Arkansas     2915918          5.6           AR\n",
            "4   California    37253956          4.4           CA\n",
            "5     Colorado     5029196          2.8           CO\n",
            "6  Connecticut     3574097          2.4           CT\n",
            "7     Delaware      897934          5.8           DE\n"
          ]
        }
      ],
      "source": [
        "# Table 1-2\n",
        "print(state.head(8))"
      ]
    },
    {
      "cell_type": "markdown",
      "metadata": {
        "id": "mMSIIn1SmE0S"
      },
      "source": [
        "Standard deviation"
      ]
    },
    {
      "cell_type": "code",
      "execution_count": 16,
      "metadata": {
        "execution": {
          "iopub.execute_input": "2021-02-23T16:10:41.600922Z",
          "iopub.status.busy": "2021-02-23T16:10:41.600491Z",
          "iopub.status.idle": "2021-02-23T16:10:41.603160Z",
          "shell.execute_reply": "2021-02-23T16:10:41.602776Z"
        },
        "id": "fh77X74NmE0S",
        "outputId": "a921ab81-3415-4e1d-e04f-0359961cde4b",
        "colab": {
          "base_uri": "https://localhost:8080/"
        }
      },
      "outputs": [
        {
          "output_type": "stream",
          "name": "stdout",
          "text": [
            "6848235.347401142\n"
          ]
        }
      ],
      "source": [
        "print(state['Population'].std())"
      ]
    },
    {
      "cell_type": "markdown",
      "metadata": {
        "id": "L-jo9iMOmE0S"
      },
      "source": [
        "Interquartile range is calculated as the difference of the 75% and 25% quantile."
      ]
    },
    {
      "cell_type": "code",
      "execution_count": 17,
      "metadata": {
        "execution": {
          "iopub.execute_input": "2021-02-23T16:10:41.608314Z",
          "iopub.status.busy": "2021-02-23T16:10:41.607853Z",
          "iopub.status.idle": "2021-02-23T16:10:41.610621Z",
          "shell.execute_reply": "2021-02-23T16:10:41.610057Z"
        },
        "id": "TQNsBQ_5mE0T",
        "outputId": "1897dff4-e8e6-43d5-f106-cc63ac9059f5",
        "colab": {
          "base_uri": "https://localhost:8080/"
        }
      },
      "outputs": [
        {
          "output_type": "stream",
          "name": "stdout",
          "text": [
            "4847308.0\n"
          ]
        }
      ],
      "source": [
        "print(state['Population'].quantile(0.75) - state['Population'].quantile(0.25))"
      ]
    },
    {
      "cell_type": "markdown",
      "metadata": {
        "id": "rOuWAeJgmE0T"
      },
      "source": [
        "Median absolute deviation from the median can be calculated with a method in _statsmodels_"
      ]
    },
    {
      "cell_type": "code",
      "execution_count": 18,
      "metadata": {
        "execution": {
          "iopub.execute_input": "2021-02-23T16:10:41.617204Z",
          "iopub.status.busy": "2021-02-23T16:10:41.616688Z",
          "iopub.status.idle": "2021-02-23T16:10:41.620138Z",
          "shell.execute_reply": "2021-02-23T16:10:41.619371Z"
        },
        "id": "8UjgKDMImE0T",
        "outputId": "5bc74222-ada4-443e-fc51-d8e4d06fcf34",
        "colab": {
          "base_uri": "https://localhost:8080/"
        }
      },
      "outputs": [
        {
          "output_type": "stream",
          "name": "stdout",
          "text": [
            "3849876.1459979336\n",
            "3849876.1459979336\n"
          ]
        }
      ],
      "source": [
        "print(robust.scale.mad(state['Population']))\n",
        "print(abs(state['Population'] - state['Population'].median()).median() / 0.6744897501960817)"
      ]
    },
    {
      "cell_type": "markdown",
      "metadata": {
        "id": "NIfE9RacmE0U"
      },
      "source": [
        "## Percentiles and Boxplots\n",
        "_Pandas_ has the `quantile` method for data frames."
      ]
    },
    {
      "cell_type": "code",
      "execution_count": 19,
      "metadata": {
        "execution": {
          "iopub.execute_input": "2021-02-23T16:10:41.623994Z",
          "iopub.status.busy": "2021-02-23T16:10:41.623561Z",
          "iopub.status.idle": "2021-02-23T16:10:41.628267Z",
          "shell.execute_reply": "2021-02-23T16:10:41.627415Z"
        },
        "id": "AgkjguyWmE0U",
        "outputId": "8ebf0604-e325-44f1-bb57-b658545ad502",
        "colab": {
          "base_uri": "https://localhost:8080/"
        }
      },
      "outputs": [
        {
          "output_type": "stream",
          "name": "stdout",
          "text": [
            "0.05    1.600\n",
            "0.25    2.425\n",
            "0.50    4.000\n",
            "0.75    5.550\n",
            "0.95    6.510\n",
            "Name: Murder.Rate, dtype: float64\n"
          ]
        }
      ],
      "source": [
        "print(state['Murder.Rate'].quantile([0.05, 0.25, 0.5, 0.75, 0.95]))"
      ]
    },
    {
      "cell_type": "code",
      "execution_count": 20,
      "metadata": {
        "execution": {
          "iopub.execute_input": "2021-02-23T16:10:41.634779Z",
          "iopub.status.busy": "2021-02-23T16:10:41.634337Z",
          "iopub.status.idle": "2021-02-23T16:10:41.638364Z",
          "shell.execute_reply": "2021-02-23T16:10:41.637857Z"
        },
        "id": "bSHCnW45mE0U",
        "outputId": "99789469-e8ee-4170-dbc6-8c0967fb0dab",
        "colab": {
          "base_uri": "https://localhost:8080/"
        }
      },
      "outputs": [
        {
          "output_type": "stream",
          "name": "stdout",
          "text": [
            "             5.0%  25.0%  50.0%  75.0%  95.0%\n",
            "Murder.Rate   1.6  2.425    4.0   5.55   6.51\n"
          ]
        }
      ],
      "source": [
        "# Table 1.4\n",
        "percentages = [0.05, 0.25, 0.5, 0.75, 0.95]\n",
        "df = pd.DataFrame(state['Murder.Rate'].quantile(percentages))\n",
        "df.index = [f'{p * 100}%' for p in percentages]\n",
        "print(df.transpose())"
      ]
    },
    {
      "cell_type": "markdown",
      "metadata": {
        "id": "VdVRZwrFmE0U"
      },
      "source": [
        "_Pandas_ provides a number of basic exploratory plots; one of them are boxplots"
      ]
    },
    {
      "cell_type": "code",
      "execution_count": 21,
      "metadata": {
        "execution": {
          "iopub.execute_input": "2021-02-23T16:10:41.641682Z",
          "iopub.status.busy": "2021-02-23T16:10:41.641207Z",
          "iopub.status.idle": "2021-02-23T16:10:41.767098Z",
          "shell.execute_reply": "2021-02-23T16:10:41.766686Z"
        },
        "id": "a4LGvt43mE0V",
        "outputId": "8cd69f24-67dd-4eca-bdd2-6ee8697f140f",
        "colab": {
          "base_uri": "https://localhost:8080/",
          "height": 0
        }
      },
      "outputs": [
        {
          "output_type": "display_data",
          "data": {
            "text/plain": [
              "<Figure size 216x288 with 1 Axes>"
            ],
            "image/png": "[encoded data removed]"
          },
          "metadata": {
            "needs_background": "light"
          }
        }
      ],
      "source": [
        "ax = (state['Population']/1_000_000).plot.box(figsize=(3, 4))\n",
        "ax.set_ylabel('Population (millions)')\n",
        "\n",
        "plt.tight_layout()\n",
        "plt.show()"
      ]
    },
    {
      "cell_type": "markdown",
      "metadata": {
        "id": "O3pFDcoImE0V"
      },
      "source": [
        "## Frequency Table and Histograms\n",
        "The `cut` method for _pandas_ data splits the dataset into bins. There are a number of arguments for the method. The following code creates equal sized bins. The method `value_counts` returns a frequency table."
      ]
    },
    {
      "cell_type": "code",
      "execution_count": 22,
      "metadata": {
        "execution": {
          "iopub.execute_input": "2021-02-23T16:10:41.778301Z",
          "iopub.status.busy": "2021-02-23T16:10:41.775272Z",
          "iopub.status.idle": "2021-02-23T16:10:41.783586Z",
          "shell.execute_reply": "2021-02-23T16:10:41.783992Z"
        },
        "id": "Olmq_9lkmE0V",
        "outputId": "db1cce76-ca21-4ca6-f441-27fce8677577",
        "colab": {
          "base_uri": "https://localhost:8080/"
        }
      },
      "outputs": [
        {
          "output_type": "stream",
          "name": "stdout",
          "text": [
            "(526935.67, 4232659.0]      24\n",
            "(4232659.0, 7901692.0]      14\n",
            "(7901692.0, 11570725.0]      6\n",
            "(11570725.0, 15239758.0]     2\n",
            "(15239758.0, 18908791.0]     1\n",
            "(18908791.0, 22577824.0]     1\n",
            "(22577824.0, 26246857.0]     1\n",
            "(33584923.0, 37253956.0]     1\n",
            "(26246857.0, 29915890.0]     0\n",
            "(29915890.0, 33584923.0]     0\n",
            "Name: Population, dtype: int64\n"
          ]
        }
      ],
      "source": [
        "binnedPopulation = pd.cut(state['Population'], 10)\n",
        "print(binnedPopulation.value_counts())"
      ]
    },
    {
      "cell_type": "code",
      "execution_count": 23,
      "metadata": {
        "execution": {
          "iopub.execute_input": "2021-02-23T16:10:41.797320Z",
          "iopub.status.busy": "2021-02-23T16:10:41.792500Z",
          "iopub.status.idle": "2021-02-23T16:10:41.807526Z",
          "shell.execute_reply": "2021-02-23T16:10:41.806920Z"
        },
        "id": "EkL-s0KHmE0V",
        "outputId": "5010176b-f3ae-4bee-ed3d-9705cf0240d9",
        "colab": {
          "base_uri": "https://localhost:8080/"
        }
      },
      "outputs": [
        {
          "output_type": "stream",
          "name": "stdout",
          "text": [
            "                   BinRange  Count  \\\n",
            "0    (526935.67, 4232659.0]     24   \n",
            "1    (4232659.0, 7901692.0]     14   \n",
            "2   (7901692.0, 11570725.0]      6   \n",
            "3  (11570725.0, 15239758.0]      2   \n",
            "4  (15239758.0, 18908791.0]      1   \n",
            "5  (18908791.0, 22577824.0]      1   \n",
            "6  (22577824.0, 26246857.0]      1   \n",
            "7  (26246857.0, 29915890.0]      0   \n",
            "8  (29915890.0, 33584923.0]      0   \n",
            "9  (33584923.0, 37253956.0]      1   \n",
            "\n",
            "                                              States  \n",
            "0  WY,VT,ND,AK,SD,DE,MT,RI,NH,ME,HI,ID,NE,WV,NM,N...  \n",
            "1          KY,LA,SC,AL,CO,MN,WI,MD,MO,TN,AZ,IN,MA,WA  \n",
            "2                                  VA,NJ,NC,GA,MI,OH  \n",
            "3                                              PA,IL  \n",
            "4                                                 FL  \n",
            "5                                                 NY  \n",
            "6                                                 TX  \n",
            "7                                                     \n",
            "8                                                     \n",
            "9                                                 CA  \n"
          ]
        }
      ],
      "source": [
        "# Table 1.5\n",
        "binnedPopulation.name = 'binnedPopulation'\n",
        "df = pd.concat([state, binnedPopulation], axis=1)\n",
        "df = df.sort_values(by='Population')\n",
        "\n",
        "groups = []\n",
        "for group, subset in df.groupby(by='binnedPopulation'):\n",
        "    groups.append({\n",
        "        'BinRange': group,\n",
        "        'Count': len(subset),\n",
        "        'States': ','.join(subset.Abbreviation)\n",
        "    })\n",
        "print(pd.DataFrame(groups))"
      ]
    },
    {
      "cell_type": "markdown",
      "metadata": {
        "id": "vphnv4M5mE0V"
      },
      "source": [
        "_Pandas_ also supports histograms for exploratory data analysis."
      ]
    },
    {
      "cell_type": "code",
      "execution_count": 24,
      "metadata": {
        "execution": {
          "iopub.execute_input": "2021-02-23T16:10:41.848563Z",
          "iopub.status.busy": "2021-02-23T16:10:41.833808Z",
          "iopub.status.idle": "2021-02-23T16:10:41.928974Z",
          "shell.execute_reply": "2021-02-23T16:10:41.929289Z"
        },
        "id": "XRHkjazqmE0W",
        "outputId": "72dd0d9a-da15-4b6d-f0da-5f9d0e6a6494",
        "colab": {
          "base_uri": "https://localhost:8080/",
          "height": 0
        }
      },
      "outputs": [
        {
          "output_type": "display_data",
          "data": {
            "text/plain": [
              "<Figure size 288x288 with 1 Axes>"
            ],
            "image/png": "[encoded data removed]"
          },
          "metadata": {
            "needs_background": "light"
          }
        }
      ],
      "source": [
        "ax = (state['Population'] / 1_000_000).plot.hist(figsize=(4, 4))\n",
        "ax.set_xlabel('Population (millions)')\n",
        "\n",
        "plt.tight_layout()\n",
        "plt.show()"
      ]
    },
    {
      "cell_type": "markdown",
      "metadata": {
        "id": "vpKjC7eAmE0W"
      },
      "source": [
        "## Density Estimates\n",
        "Density is an alternative to histograms that can provide more insight into the distribution of the data points. Use the argument `bw_method` to control the smoothness of the density curve."
      ]
    },
    {
      "cell_type": "code",
      "execution_count": 25,
      "metadata": {
        "execution": {
          "iopub.execute_input": "2021-02-23T16:10:41.945298Z",
          "iopub.status.busy": "2021-02-23T16:10:41.944835Z",
          "iopub.status.idle": "2021-02-23T16:10:42.053592Z",
          "shell.execute_reply": "2021-02-23T16:10:42.053156Z"
        },
        "id": "YBk7R8X4mE0W",
        "outputId": "7c8517ba-8a1a-4743-d011-e231d5a08383",
        "colab": {
          "base_uri": "https://localhost:8080/",
          "height": 0
        }
      },
      "outputs": [
        {
          "output_type": "display_data",
          "data": {
            "text/plain": [
              "<Figure size 288x288 with 1 Axes>"
            ],
            "image/png": "[encoded data removed]"
          },
          "metadata": {
            "needs_background": "light"
          }
        }
      ],
      "source": [
        "ax = state['Murder.Rate'].plot.hist(density=True, xlim=[0, 12], \n",
        "                                    bins=range(1,12), figsize=(4, 4))\n",
        "state['Murder.Rate'].plot.density(ax=ax)\n",
        "ax.set_xlabel('Murder Rate (per 100,000)')\n",
        "\n",
        "plt.tight_layout()\n",
        "plt.show()"
      ]
    },
    {
      "cell_type": "markdown",
      "metadata": {
        "id": "SahdTl2vmE0W"
      },
      "source": [
        "# Exploring Binary and Categorical Data"
      ]
    },
    {
      "cell_type": "code",
      "execution_count": 28,
      "metadata": {
        "execution": {
          "iopub.execute_input": "2021-02-23T16:10:42.061159Z",
          "iopub.status.busy": "2021-02-23T16:10:42.059814Z",
          "iopub.status.idle": "2021-02-23T16:10:42.070552Z",
          "shell.execute_reply": "2021-02-23T16:10:42.069962Z"
        },
        "id": "yoPWaOUymE0X",
        "outputId": "f03a16d0-3a2f-4e99-f126-b1603fefffc4",
        "colab": {
          "base_uri": "https://localhost:8080/"
        }
      },
      "outputs": [
        {
          "output_type": "stream",
          "name": "stdout",
          "text": [
            "     Carrier        ATC   Weather  Security    Inbound\n",
            "0  23.022989  30.400781  4.025214  0.122937  42.428079\n"
          ]
        }
      ],
      "source": [
        "# Table 1-6\n",
        "dfw = pd.read_csv(AIRPORT_DELAYS_CSV)\n",
        "print(100 * dfw / dfw.values.sum())"
      ]
    },
    {
      "cell_type": "markdown",
      "metadata": {
        "id": "v1W2CtB9mE0X"
      },
      "source": [
        "_Pandas_ also supports bar charts for displaying a single categorical variable."
      ]
    },
    {
      "cell_type": "code",
      "execution_count": 29,
      "metadata": {
        "execution": {
          "iopub.execute_input": "2021-02-23T16:10:42.087526Z",
          "iopub.status.busy": "2021-02-23T16:10:42.086953Z",
          "iopub.status.idle": "2021-02-23T16:10:42.179227Z",
          "shell.execute_reply": "2021-02-23T16:10:42.179727Z"
        },
        "id": "0i8DZrADmE0X",
        "outputId": "8a92d607-a363-47ac-91d6-4a4ed75a5c0c",
        "colab": {
          "base_uri": "https://localhost:8080/",
          "height": 297
        }
      },
      "outputs": [
        {
          "output_type": "display_data",
          "data": {
            "text/plain": [
              "<Figure size 288x288 with 1 Axes>"
            ],
            "image/png": "[encoded data removed]"
          },
          "metadata": {
            "needs_background": "light"
          }
        }
      ],
      "source": [
        "ax = dfw.transpose().plot.bar(figsize=(4, 4), legend=False)\n",
        "ax.set_xlabel('Cause of delay')\n",
        "ax.set_ylabel('Count')\n",
        "\n",
        "plt.tight_layout()\n",
        "plt.show()"
      ]
    },
    {
      "cell_type": "markdown",
      "metadata": {
        "id": "fO7cZbMsmE0X"
      },
      "source": [
        "# Correlation\n",
        "First read the required datasets"
      ]
    },
    {
      "cell_type": "code",
      "execution_count": 30,
      "metadata": {
        "execution": {
          "iopub.execute_input": "2021-02-23T16:10:42.183987Z",
          "iopub.status.busy": "2021-02-23T16:10:42.183232Z",
          "iopub.status.idle": "2021-02-23T16:10:43.127351Z",
          "shell.execute_reply": "2021-02-23T16:10:43.126640Z"
        },
        "id": "rUv81UEhmE0X"
      },
      "outputs": [],
      "source": [
        "sp500_sym = pd.read_csv(SP500_SECTORS_CSV)\n",
        "sp500_px = pd.read_csv(SP500_DATA_CSV, index_col=0)"
      ]
    },
    {
      "cell_type": "code",
      "execution_count": 31,
      "metadata": {
        "execution": {
          "iopub.execute_input": "2021-02-23T16:10:43.135328Z",
          "iopub.status.busy": "2021-02-23T16:10:43.133230Z",
          "iopub.status.idle": "2021-02-23T16:10:43.143017Z",
          "shell.execute_reply": "2021-02-23T16:10:43.142409Z"
        },
        "id": "gFJGVzxomE0Y",
        "outputId": "2a73e3d3-2d67-4f94-cefd-f9cdbf2d9f7c",
        "colab": {
          "base_uri": "https://localhost:8080/"
        }
      },
      "outputs": [
        {
          "output_type": "stream",
          "name": "stdout",
          "text": [
            "                   T       CTL       FTR        VZ      LVLT\n",
            "2012-07-02  0.422496  0.140847  0.070879  0.554180 -0.519998\n",
            "2012-07-03 -0.177448  0.066280  0.070879 -0.025976 -0.049999\n",
            "2012-07-05 -0.160548 -0.132563  0.055128 -0.051956 -0.180000\n",
            "2012-07-06  0.342205  0.132563  0.007875  0.140106 -0.359999\n",
            "2012-07-09  0.136883  0.124279 -0.023626  0.253943  0.180000\n",
            "...              ...       ...       ...       ...       ...\n",
            "2015-06-25  0.049342 -1.600000 -0.040000 -0.187790 -0.330002\n",
            "2015-06-26 -0.256586  0.039999 -0.070000  0.029650 -0.739998\n",
            "2015-06-29 -0.098685 -0.559999 -0.060000 -0.504063 -1.360000\n",
            "2015-06-30 -0.503298 -0.420000 -0.070000 -0.523829  0.199997\n",
            "2015-07-01 -0.019737  0.080000 -0.050000  0.355811  0.139999\n",
            "\n",
            "[754 rows x 5 columns]\n"
          ]
        }
      ],
      "source": [
        "# Table 1-7\n",
        "# Determine telecommunications symbols\n",
        "telecomSymbols = sp500_sym[sp500_sym['sector'] == 'telecommunications_services']['symbol']\n",
        "\n",
        "# Filter data for dates July 2012 through June 2015\n",
        "telecom = sp500_px.loc[sp500_px.index >= '2012-07-01', telecomSymbols]\n",
        "telecom.corr()\n",
        "print(telecom)"
      ]
    },
    {
      "cell_type": "markdown",
      "metadata": {
        "id": "fiBV4Ha5mE0Y"
      },
      "source": [
        "Next we focus on funds traded on major exchanges (sector == 'etf'). "
      ]
    },
    {
      "cell_type": "code",
      "execution_count": 32,
      "metadata": {
        "execution": {
          "iopub.execute_input": "2021-02-23T16:10:43.156798Z",
          "iopub.status.busy": "2021-02-23T16:10:43.155382Z",
          "iopub.status.idle": "2021-02-23T16:10:43.160232Z",
          "shell.execute_reply": "2021-02-23T16:10:43.160736Z"
        },
        "id": "TL_pIPbBmE0Y",
        "outputId": "fbd06123-a64c-4db3-ab5c-ba778486eeac",
        "colab": {
          "base_uri": "https://localhost:8080/"
        }
      },
      "outputs": [
        {
          "output_type": "stream",
          "name": "stdout",
          "text": [
            "                 XLI       QQQ       SPY       DIA       GLD    VXX       USO  \\\n",
            "2012-07-02 -0.376098  0.096313  0.028223 -0.242796  0.419998 -10.40  0.000000   \n",
            "2012-07-03  0.376099  0.481576  0.874936  0.728405  0.490006  -3.52  0.250000   \n",
            "2012-07-05  0.150440  0.096313 -0.103487  0.149420  0.239991   6.56 -0.070000   \n",
            "2012-07-06 -0.141040 -0.491201  0.018819 -0.205449 -0.519989  -8.80 -0.180000   \n",
            "2012-07-09  0.244465 -0.048160 -0.056445 -0.168094  0.429992  -0.48  0.459999   \n",
            "\n",
            "                 IWM       XLE       XLY       XLU       XLB       XTL  \\\n",
            "2012-07-02  0.534641  0.028186  0.095759  0.098311 -0.093713  0.019076   \n",
            "2012-07-03  0.926067  0.995942  0.000000 -0.044686  0.337373  0.000000   \n",
            "2012-07-05 -0.171848 -0.460387  0.306431 -0.151938  0.103086  0.019072   \n",
            "2012-07-06 -0.229128  0.206706  0.153214  0.080437  0.018744 -0.429213   \n",
            "2012-07-09 -0.190939 -0.234892 -0.201098 -0.035751 -0.168687  0.000000   \n",
            "\n",
            "                 XLV       XLP       XLF       XLK  \n",
            "2012-07-02 -0.009529  0.313499  0.018999  0.075668  \n",
            "2012-07-03  0.000000  0.129087  0.104492  0.236462  \n",
            "2012-07-05 -0.142955 -0.073766 -0.142490  0.066211  \n",
            "2012-07-06 -0.095304  0.119865  0.066495 -0.227003  \n",
            "2012-07-09  0.352630 -0.064548  0.018999  0.009457  \n"
          ]
        }
      ],
      "source": [
        "etfs = sp500_px.loc[sp500_px.index > '2012-07-01', \n",
        "                    sp500_sym[sp500_sym['sector'] == 'etf']['symbol']]\n",
        "print(etfs.head())"
      ]
    },
    {
      "cell_type": "markdown",
      "metadata": {
        "id": "w-6FlWREmE0Y"
      },
      "source": [
        "Due to the large number of columns in this table, looking at the correlation matrix is cumbersome and it's more convenient to plot the correlation as a heatmap. The _seaborn_ package provides a convenient implementation for heatmaps."
      ]
    },
    {
      "cell_type": "code",
      "execution_count": 33,
      "metadata": {
        "execution": {
          "iopub.execute_input": "2021-02-23T16:10:43.176265Z",
          "iopub.status.busy": "2021-02-23T16:10:43.175677Z",
          "iopub.status.idle": "2021-02-23T16:10:43.476624Z",
          "shell.execute_reply": "2021-02-23T16:10:43.476136Z"
        },
        "id": "95B6VGxJmE0Z",
        "outputId": "8e55dc96-c3f3-4a4b-9e15-262336d60d64",
        "colab": {
          "base_uri": "https://localhost:8080/",
          "height": 297
        }
      },
      "outputs": [
        {
          "output_type": "display_data",
          "data": {
            "text/plain": [
              "<Figure size 360x288 with 2 Axes>"
            ],
            "image/png": "[encoded data removed]"
          },
          "metadata": {
            "needs_background": "light"
          }
        }
      ],
      "source": [
        "fig, ax = plt.subplots(figsize=(5, 4))\n",
        "ax = sns.heatmap(etfs.corr(), vmin=-1, vmax=1, \n",
        "                 cmap=sns.diverging_palette(20, 220, as_cmap=True),\n",
        "                 ax=ax)\n",
        "\n",
        "plt.tight_layout()\n",
        "plt.show()"
      ]
    },
    {
      "cell_type": "markdown",
      "metadata": {
        "id": "9BfSAllbmE0Z"
      },
      "source": [
        "The above heatmap works when you have color. For the greyscale images, as used in the book, we need to visualize the direction as well. The following code shows the strength of the correlation using ellipses."
      ]
    },
    {
      "cell_type": "code",
      "execution_count": 34,
      "metadata": {
        "execution": {
          "iopub.execute_input": "2021-02-23T16:10:43.485009Z",
          "iopub.status.busy": "2021-02-23T16:10:43.484463Z",
          "iopub.status.idle": "2021-02-23T16:10:43.692838Z",
          "shell.execute_reply": "2021-02-23T16:10:43.692449Z"
        },
        "id": "YyZR9QLwmE0Z",
        "outputId": "4e719a65-5582-4e2e-c0d2-8947df073ea9",
        "colab": {
          "base_uri": "https://localhost:8080/",
          "height": 297
        }
      },
      "outputs": [
        {
          "output_type": "display_data",
          "data": {
            "text/plain": [
              "<Figure size 360x288 with 1 Axes>"
            ],
            "image/png": "[encoded data removed]"
          },
          "metadata": {
            "needs_background": "light"
          }
        }
      ],
      "source": [
        "from matplotlib.collections import EllipseCollection\n",
        "from matplotlib.colors import Normalize\n",
        "\n",
        "def plot_corr_ellipses(data, figsize=None, **kwargs):\n",
        "    ''' https://stackoverflow.com/a/34558488 '''\n",
        "    M = np.array(data)\n",
        "    if not M.ndim == 2:\n",
        "        raise ValueError('data must be a 2D array')\n",
        "    fig, ax = plt.subplots(1, 1, figsize=figsize, subplot_kw={'aspect':'equal'})\n",
        "    ax.set_xlim(-0.5, M.shape[1] - 0.5)\n",
        "    ax.set_ylim(-0.5, M.shape[0] - 0.5)\n",
        "    ax.invert_yaxis()\n",
        "\n",
        "    # xy locations of each ellipse center\n",
        "    xy = np.indices(M.shape)[::-1].reshape(2, -1).T\n",
        "\n",
        "    # set the relative sizes of the major/minor axes according to the strength of\n",
        "    # the positive/negative correlation\n",
        "    w = np.ones_like(M).ravel() + 0.01\n",
        "    h = 1 - np.abs(M).ravel() - 0.01\n",
        "    a = 45 * np.sign(M).ravel()\n",
        "\n",
        "    ec = EllipseCollection(widths=w, heights=h, angles=a, units='x', offsets=xy,\n",
        "                           norm=Normalize(vmin=-1, vmax=1),\n",
        "                           transOffset=ax.transData, array=M.ravel(), **kwargs)\n",
        "    ax.add_collection(ec)\n",
        "\n",
        "    # if data is a DataFrame, use the row/column names as tick labels\n",
        "    if isinstance(data, pd.DataFrame):\n",
        "        ax.set_xticks(np.arange(M.shape[1]))\n",
        "        ax.set_xticklabels(data.columns, rotation=90)\n",
        "        ax.set_yticks(np.arange(M.shape[0]))\n",
        "        ax.set_yticklabels(data.index)\n",
        "\n",
        "    return ec\n",
        "\n",
        "m = plot_corr_ellipses(etfs.corr(), figsize=(5, 4), cmap='bwr_r')\n",
        "cb = fig.colorbar(m)\n",
        "cb.set_label('Correlation coefficient')\n",
        "\n",
        "plt.tight_layout()\n",
        "plt.show()"
      ]
    },
    {
      "cell_type": "markdown",
      "metadata": {
        "id": "suE_gDMKmE0Z"
      },
      "source": [
        "## Scatterplots\n",
        "Simple scatterplots are supported by _pandas_. Specifying the marker as `$\\u25EF$` uses an open circle for each point."
      ]
    },
    {
      "cell_type": "code",
      "execution_count": 35,
      "metadata": {
        "execution": {
          "iopub.execute_input": "2021-02-23T16:10:43.713869Z",
          "iopub.status.busy": "2021-02-23T16:10:43.710875Z",
          "iopub.status.idle": "2021-02-23T16:10:43.916181Z",
          "shell.execute_reply": "2021-02-23T16:10:43.915815Z"
        },
        "scrolled": true,
        "id": "EnfPIjrYmE0a",
        "outputId": "7b6e94b0-8d7d-4ef2-86da-74a366b37691",
        "colab": {
          "base_uri": "https://localhost:8080/",
          "height": 0
        }
      },
      "outputs": [
        {
          "output_type": "display_data",
          "data": {
            "text/plain": [
              "<Figure size 288x288 with 1 Axes>"
            ],
            "image/png": "[encoded data removed]"
          },
          "metadata": {
            "needs_background": "light"
          }
        }
      ],
      "source": [
        "ax = telecom.plot.scatter(x='T', y='VZ', figsize=(4, 4), marker='$\\u25EF$')\n",
        "ax.set_xlabel('ATT (T)')\n",
        "ax.set_ylabel('Verizon (VZ)')\n",
        "ax.axhline(0, color='grey', lw=1)\n",
        "ax.axvline(0, color='grey', lw=1)\n",
        "\n",
        "plt.tight_layout()\n",
        "plt.show()"
      ]
    },
    {
      "cell_type": "code",
      "execution_count": 36,
      "metadata": {
        "execution": {
          "iopub.execute_input": "2021-02-23T16:10:43.926336Z",
          "iopub.status.busy": "2021-02-23T16:10:43.925545Z",
          "iopub.status.idle": "2021-02-23T16:10:44.089590Z",
          "shell.execute_reply": "2021-02-23T16:10:44.089942Z"
        },
        "id": "S7gRC9NXmE0a",
        "outputId": "28834fd6-cab9-4695-83a5-7cb65fa7e0bf",
        "colab": {
          "base_uri": "https://localhost:8080/",
          "height": 0
        }
      },
      "outputs": [
        {
          "output_type": "stream",
          "name": "stdout",
          "text": [
            "Line2D(_line1)\n"
          ]
        },
        {
          "output_type": "display_data",
          "data": {
            "text/plain": [
              "<Figure size 288x288 with 1 Axes>"
            ],
            "image/png": "[encoded data removed]"
          },
          "metadata": {
            "needs_background": "light"
          }
        }
      ],
      "source": [
        "ax = telecom.plot.scatter(x='T', y='VZ', figsize=(4, 4), marker='$\\u25EF$', alpha=0.5)\n",
        "ax.set_xlabel('ATT (T)')\n",
        "ax.set_ylabel('Verizon (VZ)')\n",
        "ax.axhline(0, color='grey', lw=1)\n",
        "print(ax.axvline(0, color='grey', lw=1))"
      ]
    },
    {
      "cell_type": "markdown",
      "metadata": {
        "id": "Xz99FkrJmE0a"
      },
      "source": [
        "# Exploring Two or More Variables\n",
        "Load the kc_tax dataset and filter based on a variety of criteria"
      ]
    },
    {
      "cell_type": "code",
      "execution_count": 37,
      "metadata": {
        "execution": {
          "iopub.execute_input": "2021-02-23T16:10:44.093409Z",
          "iopub.status.busy": "2021-02-23T16:10:44.092631Z",
          "iopub.status.idle": "2021-02-23T16:10:44.246314Z",
          "shell.execute_reply": "2021-02-23T16:10:44.246721Z"
        },
        "id": "ne7L-SbWmE0a",
        "outputId": "85e04ef0-4fe4-4eef-fbb8-dfc0d33a40f3",
        "colab": {
          "base_uri": "https://localhost:8080/"
        }
      },
      "outputs": [
        {
          "output_type": "stream",
          "name": "stdout",
          "text": [
            "(432693, 3)\n"
          ]
        }
      ],
      "source": [
        "kc_tax = pd.read_csv(KC_TAX_CSV)\n",
        "kc_tax0 = kc_tax.loc[(kc_tax.TaxAssessedValue < 750000) & \n",
        "                     (kc_tax.SqFtTotLiving > 100) &\n",
        "                     (kc_tax.SqFtTotLiving < 3500), :]\n",
        "print(kc_tax0.shape)"
      ]
    },
    {
      "cell_type": "markdown",
      "metadata": {
        "id": "hp2TY4OqmE0b"
      },
      "source": [
        "## Hexagonal binning and Contours \n",
        "### Plotting numeric versus numeric data"
      ]
    },
    {
      "cell_type": "markdown",
      "metadata": {
        "id": "OhOJ3PKzmE0b"
      },
      "source": [
        "If the number of data points gets large, scatter plots will no longer be meaningful. Here methods that visualize densities are more useful. The `hexbin` method for _pandas_ data frames is one powerful approach."
      ]
    },
    {
      "cell_type": "code",
      "execution_count": 38,
      "metadata": {
        "execution": {
          "iopub.execute_input": "2021-02-23T16:10:44.249537Z",
          "iopub.status.busy": "2021-02-23T16:10:44.248957Z",
          "iopub.status.idle": "2021-02-23T16:10:44.531271Z",
          "shell.execute_reply": "2021-02-23T16:10:44.531580Z"
        },
        "scrolled": true,
        "id": "vs4ciktnmE0b",
        "outputId": "17f5daa3-e6fc-4644-df8d-c97b5f1f628e",
        "colab": {
          "base_uri": "https://localhost:8080/",
          "height": 297
        }
      },
      "outputs": [
        {
          "output_type": "display_data",
          "data": {
            "text/plain": [
              "<Figure size 360x288 with 2 Axes>"
            ],
            "image/png": "[encoded data removed]"
          },
          "metadata": {
            "needs_background": "light"
          }
        }
      ],
      "source": [
        "ax = kc_tax0.plot.hexbin(x='SqFtTotLiving', y='TaxAssessedValue',\n",
        "                         gridsize=30, sharex=False, figsize=(5, 4))\n",
        "ax.set_xlabel('Finished Square Feet')\n",
        "ax.set_ylabel('Tax Assessed Value')\n",
        "\n",
        "plt.tight_layout()\n",
        "plt.show()"
      ]
    },
    {
      "cell_type": "markdown",
      "metadata": {
        "id": "AU7IRdphmE0b"
      },
      "source": [
        "The _seaborn_ kdeplot is a two-dimensional extension of the density plot. "
      ]
    },
    {
      "cell_type": "code",
      "execution_count": null,
      "metadata": {
        "execution": {
          "iopub.execute_input": "2021-02-23T16:10:44.544715Z",
          "iopub.status.busy": "2021-02-23T16:10:44.544214Z",
          "iopub.status.idle": "2021-02-23T16:15:20.899737Z",
          "shell.execute_reply": "2021-02-23T16:15:20.900168Z"
        },
        "scrolled": true,
        "id": "9Gt-_q_JmE0b"
      },
      "outputs": [],
      "source": [
        "fig, ax = plt.subplots(figsize=(4, 4))\n",
        "sns.kdeplot(data=kc_tax0, x='SqFtTotLiving', y='TaxAssessedValue', ax=ax)\n",
        "ax.set_xlabel('Finished Square Feet')\n",
        "ax.set_ylabel('Tax Assessed Value')\n",
        "\n",
        "plt.tight_layout()\n",
        "plt.show()"
      ]
    },
    {
      "cell_type": "markdown",
      "metadata": {
        "id": "NP20gfMQmE0c"
      },
      "source": [
        "## Two Categorical Variables\n",
        "Load the `lc_loans` dataset"
      ]
    },
    {
      "cell_type": "code",
      "execution_count": null,
      "metadata": {
        "execution": {
          "iopub.execute_input": "2021-02-23T16:15:20.907504Z",
          "iopub.status.busy": "2021-02-23T16:15:20.906958Z",
          "iopub.status.idle": "2021-02-23T16:15:20.998107Z",
          "shell.execute_reply": "2021-02-23T16:15:20.997510Z"
        },
        "id": "A2YP8SOlmE0c"
      },
      "outputs": [],
      "source": [
        "lc_loans = pd.read_csv(LC_LOANS_CSV)"
      ]
    },
    {
      "cell_type": "code",
      "execution_count": null,
      "metadata": {
        "execution": {
          "iopub.execute_input": "2021-02-23T16:15:21.006977Z",
          "iopub.status.busy": "2021-02-23T16:15:21.006414Z",
          "iopub.status.idle": "2021-02-23T16:15:21.162547Z",
          "shell.execute_reply": "2021-02-23T16:15:21.162106Z"
        },
        "id": "pNt7LmSsmE0c"
      },
      "outputs": [],
      "source": [
        "# Table 1-8(1)\n",
        "crosstab = lc_loans.pivot_table(index='grade', columns='status', \n",
        "                                aggfunc=lambda x: len(x), margins=True)\n",
        "print(crosstab)"
      ]
    },
    {
      "cell_type": "code",
      "execution_count": null,
      "metadata": {
        "execution": {
          "iopub.execute_input": "2021-02-23T16:15:21.172198Z",
          "iopub.status.busy": "2021-02-23T16:15:21.171622Z",
          "iopub.status.idle": "2021-02-23T16:15:21.174565Z",
          "shell.execute_reply": "2021-02-23T16:15:21.174957Z"
        },
        "scrolled": true,
        "id": "FvS99-xtmE0c"
      },
      "outputs": [],
      "source": [
        "# Table 1-8(2)\n",
        "df = crosstab.copy().loc['A':'G',:]\n",
        "df.loc[:,'Charged Off':'Late'] = df.loc[:,'Charged Off':'Late'].div(df['All'], axis=0)\n",
        "df['All'] = df['All'] / sum(df['All'])\n",
        "perc_crosstab = df\n",
        "print(perc_crosstab)"
      ]
    },
    {
      "cell_type": "markdown",
      "metadata": {
        "id": "hHuercMzmE0d"
      },
      "source": [
        "## Categorical and Numeric Data\n",
        "_Pandas_ boxplots of a column can be grouped by a different column."
      ]
    },
    {
      "cell_type": "code",
      "execution_count": null,
      "metadata": {
        "execution": {
          "iopub.execute_input": "2021-02-23T16:15:21.182519Z",
          "iopub.status.busy": "2021-02-23T16:15:21.179606Z",
          "iopub.status.idle": "2021-02-23T16:15:21.367742Z",
          "shell.execute_reply": "2021-02-23T16:15:21.368293Z"
        },
        "id": "1GfXFqMvmE0d"
      },
      "outputs": [],
      "source": [
        "airline_stats = pd.read_csv(AIRLINE_STATS_CSV)\n",
        "airline_stats.head()\n",
        "ax = airline_stats.boxplot(by='airline', column='pct_carrier_delay',\n",
        "                           figsize=(5, 5))\n",
        "ax.set_xlabel('')\n",
        "ax.set_ylabel('Daily % of Delayed Flights')\n",
        "plt.suptitle('')\n",
        "\n",
        "plt.tight_layout()\n",
        "plt.show()"
      ]
    },
    {
      "cell_type": "markdown",
      "metadata": {
        "id": "ysN_w0hGmE0d"
      },
      "source": [
        "_Pandas_ also supports a variation of boxplots called _violinplot_. "
      ]
    },
    {
      "cell_type": "code",
      "execution_count": null,
      "metadata": {
        "execution": {
          "iopub.execute_input": "2021-02-23T16:15:21.381650Z",
          "iopub.status.busy": "2021-02-23T16:15:21.381203Z",
          "iopub.status.idle": "2021-02-23T16:15:21.545507Z",
          "shell.execute_reply": "2021-02-23T16:15:21.545807Z"
        },
        "scrolled": false,
        "id": "OorwV9kbmE0d"
      },
      "outputs": [],
      "source": [
        "fig, ax = plt.subplots(figsize=(5, 5))\n",
        "sns.violinplot(data=airline_stats, x='airline', y='pct_carrier_delay',\n",
        "               ax=ax, inner='quartile', color='white')\n",
        "ax.set_xlabel('')\n",
        "ax.set_ylabel('Daily % of Delayed Flights')\n",
        "\n",
        "plt.tight_layout()\n",
        "plt.show()"
      ]
    },
    {
      "cell_type": "markdown",
      "metadata": {
        "id": "qlP96HrXmE0d"
      },
      "source": [
        "## Visualizing Multiple Variables"
      ]
    },
    {
      "cell_type": "code",
      "execution_count": null,
      "metadata": {
        "execution": {
          "iopub.execute_input": "2021-02-23T16:15:21.550494Z",
          "iopub.status.busy": "2021-02-23T16:15:21.550057Z",
          "iopub.status.idle": "2021-02-23T16:15:21.986622Z",
          "shell.execute_reply": "2021-02-23T16:15:21.986305Z"
        },
        "scrolled": false,
        "id": "86y9EzbTmE0e"
      },
      "outputs": [],
      "source": [
        "zip_codes = [98188, 98105, 98108, 98126]\n",
        "kc_tax_zip = kc_tax0.loc[kc_tax0.ZipCode.isin(zip_codes),:]\n",
        "kc_tax_zip\n",
        "\n",
        "def hexbin(x, y, color, **kwargs):\n",
        "    cmap = sns.light_palette(color, as_cmap=True)\n",
        "    plt.hexbin(x, y, gridsize=25, cmap=cmap, **kwargs)\n",
        "\n",
        "g = sns.FacetGrid(kc_tax_zip, col='ZipCode', col_wrap=2)\n",
        "g.map(hexbin, 'SqFtTotLiving', 'TaxAssessedValue', \n",
        "      extent=[0, 3500, 0, 700000])\n",
        "g.set_axis_labels('Finished Square Feet', 'Tax Assessed Value')\n",
        "g.set_titles('Zip code {col_name:.0f}')\n",
        "\n",
        "plt.tight_layout()\n",
        "plt.show()"
      ]
    }
  ],
  "metadata": {
    "kernelspec": {
      "display_name": "Python 3",
      "language": "python",
      "name": "python3"
    },
    "language_info": {
      "codemirror_mode": {
        "name": "ipython",
        "version": 3
      },
      "file_extension": ".py",
      "mimetype": "text/x-python",
      "name": "python",
      "nbconvert_exporter": "python",
      "pygments_lexer": "ipython3",
      "version": "3.8.5"
    },
    "colab": {
      "provenance": [],
      "include_colab_link": true
    }
  },
  "nbformat": 4,
  "nbformat_minor": 0
}