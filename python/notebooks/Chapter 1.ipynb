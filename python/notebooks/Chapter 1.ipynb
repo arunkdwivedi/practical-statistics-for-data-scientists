{
 "cells": [
  {
   "cell_type": "code",
   "execution_count": 1,
   "metadata": {},
   "outputs": [],
   "source": [
    "%matplotlib inline\n",
    "\n",
    "from pathlib import Path\n",
    "\n",
    "import pandas as pd\n",
    "import numpy as np\n",
    "from scipy.stats import trim_mean\n",
    "from statsmodels import robust\n",
    "import wquantiles\n",
    "\n",
    "import seaborn as sns\n",
    "import matplotlib.pylab as plt"
   ]
  },
  {
   "cell_type": "code",
   "execution_count": 2,
   "metadata": {},
   "outputs": [
    {
     "data": {
      "text/plain": [
       "'C:\\\\Users\\\\a\\\\git\\\\practical-statistics-for-data-scientists\\\\python\\\\notebooks'"
      ]
     },
     "execution_count": 2,
     "metadata": {},
     "output_type": "execute_result"
    }
   ],
   "source": [
    "import os\n",
    "os.getcwd()"
   ]
  },
  {
   "cell_type": "code",
   "execution_count": 3,
   "metadata": {},
   "outputs": [
    {
     "data": {
      "text/plain": [
       "'C:\\\\Users\\\\a\\\\git\\\\practical-statistics-for-data-scientists'"
      ]
     },
     "execution_count": 3,
     "metadata": {},
     "output_type": "execute_result"
    }
   ],
   "source": [
    "os.chdir('C:/Users/a/git/practical-statistics-for-data-scientists')\n",
    "os.getcwd()\n"
   ]
  },
  {
   "cell_type": "code",
   "execution_count": 4,
   "metadata": {},
   "outputs": [],
   "source": [
    "AIRLINE_STATS_CSV = 'DATA/airline_stats.csv'\n",
    "KC_TAX_CSV = 'DATA/kc_tax.csv.gz'\n",
    "LC_LOANS_CSV = 'DATA/lc_loans.csv'\n",
    "AIRPORT_DELAYS_CSV = 'DATA/dfw_airline.csv'\n",
    "SP500_DATA_CSV = 'DATA/sp500_data.csv.gz'\n",
    "SP500_SECTORS_CSV = 'DATA/sp500_sectors.csv'\n",
    "STATE_CSV = 'DATA/state.csv'"
   ]
  },
  {
   "cell_type": "code",
   "execution_count": 5,
   "metadata": {},
   "outputs": [
    {
     "data": {
      "text/html": [
       "<div>\n",
       "<style scoped>\n",
       "    .dataframe tbody tr th:only-of-type {\n",
       "        vertical-align: middle;\n",
       "    }\n",
       "\n",
       "    .dataframe tbody tr th {\n",
       "        vertical-align: top;\n",
       "    }\n",
       "\n",
       "    .dataframe thead th {\n",
       "        text-align: right;\n",
       "    }\n",
       "</style>\n",
       "<table border=\"1\" class=\"dataframe\">\n",
       "  <thead>\n",
       "    <tr style=\"text-align: right;\">\n",
       "      <th></th>\n",
       "      <th>State</th>\n",
       "      <th>Population</th>\n",
       "      <th>Murder.Rate</th>\n",
       "      <th>Abbreviation</th>\n",
       "    </tr>\n",
       "  </thead>\n",
       "  <tbody>\n",
       "    <tr>\n",
       "      <th>0</th>\n",
       "      <td>Alabama</td>\n",
       "      <td>4779736</td>\n",
       "      <td>5.7</td>\n",
       "      <td>AL</td>\n",
       "    </tr>\n",
       "    <tr>\n",
       "      <th>1</th>\n",
       "      <td>Alaska</td>\n",
       "      <td>710231</td>\n",
       "      <td>5.6</td>\n",
       "      <td>AK</td>\n",
       "    </tr>\n",
       "    <tr>\n",
       "      <th>2</th>\n",
       "      <td>Arizona</td>\n",
       "      <td>6392017</td>\n",
       "      <td>4.7</td>\n",
       "      <td>AZ</td>\n",
       "    </tr>\n",
       "    <tr>\n",
       "      <th>3</th>\n",
       "      <td>Arkansas</td>\n",
       "      <td>2915918</td>\n",
       "      <td>5.6</td>\n",
       "      <td>AR</td>\n",
       "    </tr>\n",
       "    <tr>\n",
       "      <th>4</th>\n",
       "      <td>California</td>\n",
       "      <td>37253956</td>\n",
       "      <td>4.4</td>\n",
       "      <td>CA</td>\n",
       "    </tr>\n",
       "  </tbody>\n",
       "</table>\n",
       "</div>"
      ],
      "text/plain": [
       "        State  Population  Murder.Rate Abbreviation\n",
       "0     Alabama     4779736          5.7           AL\n",
       "1      Alaska      710231          5.6           AK\n",
       "2     Arizona     6392017          4.7           AZ\n",
       "3    Arkansas     2915918          5.6           AR\n",
       "4  California    37253956          4.4           CA"
      ]
     },
     "execution_count": 5,
     "metadata": {},
     "output_type": "execute_result"
    }
   ],
   "source": [
    "state=pd.read_csv(STATE_CSV)\n",
    "state.head()"
   ]
  },
  {
   "cell_type": "code",
   "execution_count": 6,
   "metadata": {},
   "outputs": [
    {
     "data": {
      "text/plain": [
       "6162876.3"
      ]
     },
     "execution_count": 6,
     "metadata": {},
     "output_type": "execute_result"
    }
   ],
   "source": [
    "state['Population'].mean()"
   ]
  },
  {
   "cell_type": "code",
   "execution_count": 7,
   "metadata": {},
   "outputs": [
    {
     "data": {
      "text/plain": [
       "4783697.125"
      ]
     },
     "execution_count": 7,
     "metadata": {},
     "output_type": "execute_result"
    }
   ],
   "source": [
    "trim_mean(state['Population'],0.1)"
   ]
  },
  {
   "cell_type": "code",
   "execution_count": 8,
   "metadata": {
    "scrolled": true
   },
   "outputs": [
    {
     "data": {
      "text/plain": [
       "4436369.5"
      ]
     },
     "execution_count": 8,
     "metadata": {},
     "output_type": "execute_result"
    }
   ],
   "source": [
    "state['Population'].median()"
   ]
  },
  {
   "cell_type": "code",
   "execution_count": 9,
   "metadata": {},
   "outputs": [
    {
     "data": {
      "text/plain": [
       "4.445833981123393"
      ]
     },
     "execution_count": 9,
     "metadata": {},
     "output_type": "execute_result"
    }
   ],
   "source": [
    "np.average(state['Murder.Rate'],weights=state['Population'])"
   ]
  },
  {
   "cell_type": "code",
   "execution_count": 10,
   "metadata": {},
   "outputs": [
    {
     "data": {
      "text/plain": [
       "4.4"
      ]
     },
     "execution_count": 10,
     "metadata": {},
     "output_type": "execute_result"
    }
   ],
   "source": [
    "wquantiles.median(state['Murder.Rate'], weights=state['Population'])"
   ]
  },
  {
   "cell_type": "code",
   "execution_count": 11,
   "metadata": {},
   "outputs": [
    {
     "data": {
      "text/plain": [
       "46898327373394.445"
      ]
     },
     "execution_count": 11,
     "metadata": {},
     "output_type": "execute_result"
    }
   ],
   "source": [
    "state['Population'].var()"
   ]
  },
  {
   "cell_type": "code",
   "execution_count": 12,
   "metadata": {},
   "outputs": [
    {
     "data": {
      "text/plain": [
       "6848235.347401142"
      ]
     },
     "execution_count": 12,
     "metadata": {},
     "output_type": "execute_result"
    }
   ],
   "source": [
    "state['Population'].std()"
   ]
  },
  {
   "cell_type": "code",
   "execution_count": 13,
   "metadata": {},
   "outputs": [
    {
     "data": {
      "text/plain": [
       "4847308.0"
      ]
     },
     "execution_count": 13,
     "metadata": {},
     "output_type": "execute_result"
    }
   ],
   "source": [
    "state['Population'].quantile(0.75)-state['Population'].quantile(0.25)"
   ]
  },
  {
   "cell_type": "code",
   "execution_count": 14,
   "metadata": {},
   "outputs": [
    {
     "data": {
      "text/plain": [
       "3849876.1459979336"
      ]
     },
     "execution_count": 14,
     "metadata": {},
     "output_type": "execute_result"
    }
   ],
   "source": [
    "robust.scale.mad(state['Population'])"
   ]
  },
  {
   "cell_type": "code",
   "execution_count": 15,
   "metadata": {},
   "outputs": [
    {
     "data": {
      "text/plain": [
       "0.05    1.600\n",
       "0.25    2.425\n",
       "0.50    4.000\n",
       "0.75    5.550\n",
       "0.95    6.510\n",
       "Name: Murder.Rate, dtype: float64"
      ]
     },
     "execution_count": 15,
     "metadata": {},
     "output_type": "execute_result"
    }
   ],
   "source": [
    "state['Murder.Rate'].quantile([0.05,0.25,0.5,0.75,0.95])"
   ]
  },
  {
   "cell_type": "code",
   "execution_count": 16,
   "metadata": {
    "scrolled": false
   },
   "outputs": [
    {
     "data": {
      "text/plain": [
       "Text(0, 0.5, 'Population (millions)')"
      ]
     },
     "execution_count": 16,
     "metadata": {},
     "output_type": "execute_result"
    },
    {
     "data": {
      "image/png": "[encoded data removed]",
      "text/plain": [
       "<Figure size 432x288 with 1 Axes>"
      ]
     },
     "metadata": {
      "needs_background": "light"
     },
     "output_type": "display_data"
    }
   ],
   "source": [
    "ax=(state['Population']/1000000).plot.box()\n",
    "ax.set_ylabel('Population (millions)')"
   ]
  },
  {
   "cell_type": "code",
   "execution_count": 17,
   "metadata": {},
   "outputs": [
    {
     "data": {
      "text/plain": [
       "(526935.67, 4232659.0]      24\n",
       "(4232659.0, 7901692.0]      14\n",
       "(7901692.0, 11570725.0]      6\n",
       "(11570725.0, 15239758.0]     2\n",
       "(33584923.0, 37253956.0]     1\n",
       "(22577824.0, 26246857.0]     1\n",
       "(18908791.0, 22577824.0]     1\n",
       "(15239758.0, 18908791.0]     1\n",
       "(29915890.0, 33584923.0]     0\n",
       "(26246857.0, 29915890.0]     0\n",
       "Name: Population, dtype: int64"
      ]
     },
     "execution_count": 17,
     "metadata": {},
     "output_type": "execute_result"
    }
   ],
   "source": [
    "binnedPopulation=pd.cut(state['Population'],10)\n",
    "binnedPopulation.value_counts()"
   ]
  },
  {
   "cell_type": "code",
   "execution_count": 18,
   "metadata": {
    "scrolled": false
   },
   "outputs": [
    {
     "data": {
      "text/plain": [
       "Text(0.5, 0, 'Population( millions)')"
      ]
     },
     "execution_count": 18,
     "metadata": {},
     "output_type": "execute_result"
    },
    {
     "data": {
      "image/png": "[encoded data removed]",
      "text/plain": [
       "<Figure size 288x288 with 1 Axes>"
      ]
     },
     "metadata": {
      "needs_background": "light"
     },
     "output_type": "display_data"
    }
   ],
   "source": [
    "ax=(state['Population']/1_000_000).plot.hist(figsize=(4,4))\n",
    "ax.set_xlabel('Population( millions)')"
   ]
  },
  {
   "cell_type": "code",
   "execution_count": 19,
   "metadata": {},
   "outputs": [
    {
     "data": {
      "text/plain": [
       "Text(0.5, 0, 'Murder Rate (per 100,000)')"
      ]
     },
     "execution_count": 19,
     "metadata": {},
     "output_type": "execute_result"
    },
    {
     "data": {
      "image/png": "[encoded data removed]",
      "text/plain": [
       "<Figure size 432x288 with 1 Axes>"
      ]
     },
     "metadata": {
      "needs_background": "light"
     },
     "output_type": "display_data"
    }
   ],
   "source": [
    "ax=state['Murder.Rate'].plot.hist(density=True,xlim=[0,12],bins=range(1,12))\n",
    "ax=state['Murder.Rate'].plot.density()\n",
    "ax.set_xlabel('Murder Rate (per 100,000)')"
   ]
  },
  {
   "cell_type": "code",
   "execution_count": 20,
   "metadata": {},
   "outputs": [],
   "source": [
    "dfw=pd.read_csv(AIRPORT_DELAYS_CSV)"
   ]
  },
  {
   "cell_type": "code",
   "execution_count": 21,
   "metadata": {},
   "outputs": [
    {
     "data": {
      "text/html": [
       "<div>\n",
       "<style scoped>\n",
       "    .dataframe tbody tr th:only-of-type {\n",
       "        vertical-align: middle;\n",
       "    }\n",
       "\n",
       "    .dataframe tbody tr th {\n",
       "        vertical-align: top;\n",
       "    }\n",
       "\n",
       "    .dataframe thead th {\n",
       "        text-align: right;\n",
       "    }\n",
       "</style>\n",
       "<table border=\"1\" class=\"dataframe\">\n",
       "  <thead>\n",
       "    <tr style=\"text-align: right;\">\n",
       "      <th></th>\n",
       "      <th>Carrier</th>\n",
       "      <th>ATC</th>\n",
       "      <th>Weather</th>\n",
       "      <th>Security</th>\n",
       "      <th>Inbound</th>\n",
       "    </tr>\n",
       "  </thead>\n",
       "  <tbody>\n",
       "    <tr>\n",
       "      <th>0</th>\n",
       "      <td>64263.16</td>\n",
       "      <td>84856.5</td>\n",
       "      <td>11235.42</td>\n",
       "      <td>343.15</td>\n",
       "      <td>118427.82</td>\n",
       "    </tr>\n",
       "  </tbody>\n",
       "</table>\n",
       "</div>"
      ],
      "text/plain": [
       "    Carrier      ATC   Weather  Security    Inbound\n",
       "0  64263.16  84856.5  11235.42    343.15  118427.82"
      ]
     },
     "execution_count": 21,
     "metadata": {},
     "output_type": "execute_result"
    }
   ],
   "source": [
    "dfw.head()"
   ]
  },
  {
   "cell_type": "code",
   "execution_count": 22,
   "metadata": {
    "scrolled": true
   },
   "outputs": [
    {
     "data": {
      "text/plain": [
       "Text(0, 0.5, 'Count')"
      ]
     },
     "execution_count": 22,
     "metadata": {},
     "output_type": "execute_result"
    },
    {
     "data": {
      "image/png": "[encoded data removed]",
      "text/plain": [
       "<Figure size 432x288 with 1 Axes>"
      ]
     },
     "metadata": {
      "needs_background": "light"
     },
     "output_type": "display_data"
    }
   ],
   "source": [
    "ax=dfw.transpose().plot.bar(legend=False, color='k')\n",
    "ax.set_xlabel('Cause of Delay')\n",
    "ax.set_ylabel('Count')"
   ]
  },
  {
   "cell_type": "code",
   "execution_count": 23,
   "metadata": {},
   "outputs": [],
   "source": [
    "inf_m=pd.read_excel(\"C:/Users/a/Downloads/education and infant mortality.xlsx\")"
   ]
  },
  {
   "cell_type": "code",
   "execution_count": 24,
   "metadata": {},
   "outputs": [
    {
     "data": {
      "text/html": [
       "<div>\n",
       "<style scoped>\n",
       "    .dataframe tbody tr th:only-of-type {\n",
       "        vertical-align: middle;\n",
       "    }\n",
       "\n",
       "    .dataframe tbody tr th {\n",
       "        vertical-align: top;\n",
       "    }\n",
       "\n",
       "    .dataframe thead th {\n",
       "        text-align: right;\n",
       "    }\n",
       "</style>\n",
       "<table border=\"1\" class=\"dataframe\">\n",
       "  <thead>\n",
       "    <tr style=\"text-align: right;\">\n",
       "      <th></th>\n",
       "      <th>Average</th>\n",
       "      <th>Male</th>\n",
       "      <th>Female</th>\n",
       "      <th>Infant Mortality Rate (2011)</th>\n",
       "    </tr>\n",
       "  </thead>\n",
       "  <tbody>\n",
       "    <tr>\n",
       "      <th>Average</th>\n",
       "      <td>1.000000</td>\n",
       "      <td>0.955643</td>\n",
       "      <td>0.979951</td>\n",
       "      <td>-0.536771</td>\n",
       "    </tr>\n",
       "    <tr>\n",
       "      <th>Male</th>\n",
       "      <td>0.955643</td>\n",
       "      <td>1.000000</td>\n",
       "      <td>0.882528</td>\n",
       "      <td>-0.504166</td>\n",
       "    </tr>\n",
       "    <tr>\n",
       "      <th>Female</th>\n",
       "      <td>0.979951</td>\n",
       "      <td>0.882528</td>\n",
       "      <td>1.000000</td>\n",
       "      <td>-0.537379</td>\n",
       "    </tr>\n",
       "    <tr>\n",
       "      <th>Infant Mortality Rate (2011)</th>\n",
       "      <td>-0.536771</td>\n",
       "      <td>-0.504166</td>\n",
       "      <td>-0.537379</td>\n",
       "      <td>1.000000</td>\n",
       "    </tr>\n",
       "  </tbody>\n",
       "</table>\n",
       "</div>"
      ],
      "text/plain": [
       "                               Average      Male    Female  \\\n",
       "Average                       1.000000  0.955643  0.979951   \n",
       "Male                          0.955643  1.000000  0.882528   \n",
       "Female                        0.979951  0.882528  1.000000   \n",
       "Infant Mortality Rate (2011) -0.536771 -0.504166 -0.537379   \n",
       "\n",
       "                              Infant Mortality Rate (2011)  \n",
       "Average                                          -0.536771  \n",
       "Male                                             -0.504166  \n",
       "Female                                           -0.537379  \n",
       "Infant Mortality Rate (2011)                      1.000000  "
      ]
     },
     "execution_count": 24,
     "metadata": {},
     "output_type": "execute_result"
    }
   ],
   "source": [
    "inf_m.corr()"
   ]
  },
  {
   "cell_type": "code",
   "execution_count": 25,
   "metadata": {},
   "outputs": [],
   "source": [
    "sp500_sym=pd.read_csv(SP500_SECTORS_CSV)\n",
    "sp500_px=pd.read_csv(SP500_DATA_CSV, index_col=0)"
   ]
  },
  {
   "cell_type": "code",
   "execution_count": 26,
   "metadata": {},
   "outputs": [
    {
     "data": {
      "text/html": [
       "<div>\n",
       "<style scoped>\n",
       "    .dataframe tbody tr th:only-of-type {\n",
       "        vertical-align: middle;\n",
       "    }\n",
       "\n",
       "    .dataframe tbody tr th {\n",
       "        vertical-align: top;\n",
       "    }\n",
       "\n",
       "    .dataframe thead th {\n",
       "        text-align: right;\n",
       "    }\n",
       "</style>\n",
       "<table border=\"1\" class=\"dataframe\">\n",
       "  <thead>\n",
       "    <tr style=\"text-align: right;\">\n",
       "      <th></th>\n",
       "      <th>sector</th>\n",
       "      <th>sector_label</th>\n",
       "      <th>sub_sector</th>\n",
       "      <th>symbol</th>\n",
       "    </tr>\n",
       "  </thead>\n",
       "  <tbody>\n",
       "    <tr>\n",
       "      <th>0</th>\n",
       "      <td>information_technology</td>\n",
       "      <td>Technology</td>\n",
       "      <td>data_processing_&amp;_outsourced_services</td>\n",
       "      <td>ADS</td>\n",
       "    </tr>\n",
       "    <tr>\n",
       "      <th>1</th>\n",
       "      <td>information_technology</td>\n",
       "      <td>Technology</td>\n",
       "      <td>systems_software</td>\n",
       "      <td>CA</td>\n",
       "    </tr>\n",
       "    <tr>\n",
       "      <th>2</th>\n",
       "      <td>information_technology</td>\n",
       "      <td>Technology</td>\n",
       "      <td>systems_software</td>\n",
       "      <td>MSFT</td>\n",
       "    </tr>\n",
       "    <tr>\n",
       "      <th>3</th>\n",
       "      <td>information_technology</td>\n",
       "      <td>Technology</td>\n",
       "      <td>systems_software</td>\n",
       "      <td>RHT</td>\n",
       "    </tr>\n",
       "    <tr>\n",
       "      <th>4</th>\n",
       "      <td>information_technology</td>\n",
       "      <td>Technology</td>\n",
       "      <td>it_consulting_&amp;_services</td>\n",
       "      <td>CTSH</td>\n",
       "    </tr>\n",
       "  </tbody>\n",
       "</table>\n",
       "</div>"
      ],
      "text/plain": [
       "                   sector sector_label                             sub_sector  \\\n",
       "0  information_technology   Technology  data_processing_&_outsourced_services   \n",
       "1  information_technology   Technology                       systems_software   \n",
       "2  information_technology   Technology                       systems_software   \n",
       "3  information_technology   Technology                       systems_software   \n",
       "4  information_technology   Technology               it_consulting_&_services   \n",
       "\n",
       "  symbol  \n",
       "0    ADS  \n",
       "1     CA  \n",
       "2   MSFT  \n",
       "3    RHT  \n",
       "4   CTSH  "
      ]
     },
     "execution_count": 26,
     "metadata": {},
     "output_type": "execute_result"
    }
   ],
   "source": [
    "sp500_sym.head()"
   ]
  },
  {
   "cell_type": "code",
   "execution_count": 27,
   "metadata": {},
   "outputs": [],
   "source": [
    "TelecomSym=sp500_sym.loc[sp500_sym['sector']=='telecommunications_services']['symbol']"
   ]
  },
  {
   "cell_type": "code",
   "execution_count": 28,
   "metadata": {},
   "outputs": [],
   "source": [
    "telecom=sp500_px.loc[sp500_px.index>='2012-07-01',TelecomSym]"
   ]
  },
  {
   "cell_type": "code",
   "execution_count": 29,
   "metadata": {},
   "outputs": [
    {
     "data": {
      "text/html": [
       "<div>\n",
       "<style scoped>\n",
       "    .dataframe tbody tr th:only-of-type {\n",
       "        vertical-align: middle;\n",
       "    }\n",
       "\n",
       "    .dataframe tbody tr th {\n",
       "        vertical-align: top;\n",
       "    }\n",
       "\n",
       "    .dataframe thead th {\n",
       "        text-align: right;\n",
       "    }\n",
       "</style>\n",
       "<table border=\"1\" class=\"dataframe\">\n",
       "  <thead>\n",
       "    <tr style=\"text-align: right;\">\n",
       "      <th></th>\n",
       "      <th>ADS</th>\n",
       "      <th>CA</th>\n",
       "      <th>MSFT</th>\n",
       "      <th>RHT</th>\n",
       "      <th>CTSH</th>\n",
       "      <th>CSC</th>\n",
       "      <th>EMC</th>\n",
       "      <th>IBM</th>\n",
       "      <th>XRX</th>\n",
       "      <th>ALTR</th>\n",
       "      <th>...</th>\n",
       "      <th>WAT</th>\n",
       "      <th>ALXN</th>\n",
       "      <th>AMGN</th>\n",
       "      <th>BXLT</th>\n",
       "      <th>BIIB</th>\n",
       "      <th>CELG</th>\n",
       "      <th>GILD</th>\n",
       "      <th>REGN</th>\n",
       "      <th>VRTX</th>\n",
       "      <th>HSIC</th>\n",
       "    </tr>\n",
       "  </thead>\n",
       "  <tbody>\n",
       "    <tr>\n",
       "      <th>1993-01-29</th>\n",
       "      <td>0.0</td>\n",
       "      <td>0.060124</td>\n",
       "      <td>-0.022100</td>\n",
       "      <td>0.0</td>\n",
       "      <td>0.0</td>\n",
       "      <td>0.018897</td>\n",
       "      <td>0.007368</td>\n",
       "      <td>0.092165</td>\n",
       "      <td>0.259140</td>\n",
       "      <td>-0.007105</td>\n",
       "      <td>...</td>\n",
       "      <td>0.0</td>\n",
       "      <td>0.0</td>\n",
       "      <td>0.34716</td>\n",
       "      <td>0.0</td>\n",
       "      <td>0.04167</td>\n",
       "      <td>0.00000</td>\n",
       "      <td>0.015564</td>\n",
       "      <td>1.75</td>\n",
       "      <td>0.1250</td>\n",
       "      <td>0.0</td>\n",
       "    </tr>\n",
       "    <tr>\n",
       "      <th>1993-02-01</th>\n",
       "      <td>0.0</td>\n",
       "      <td>-0.180389</td>\n",
       "      <td>0.027621</td>\n",
       "      <td>0.0</td>\n",
       "      <td>0.0</td>\n",
       "      <td>0.018889</td>\n",
       "      <td>0.018425</td>\n",
       "      <td>0.115207</td>\n",
       "      <td>-0.100775</td>\n",
       "      <td>0.063893</td>\n",
       "      <td>...</td>\n",
       "      <td>0.0</td>\n",
       "      <td>0.0</td>\n",
       "      <td>-0.23144</td>\n",
       "      <td>0.0</td>\n",
       "      <td>0.00000</td>\n",
       "      <td>-0.01041</td>\n",
       "      <td>0.007782</td>\n",
       "      <td>1.25</td>\n",
       "      <td>0.1250</td>\n",
       "      <td>0.0</td>\n",
       "    </tr>\n",
       "    <tr>\n",
       "      <th>1993-02-02</th>\n",
       "      <td>0.0</td>\n",
       "      <td>-0.120257</td>\n",
       "      <td>0.035900</td>\n",
       "      <td>0.0</td>\n",
       "      <td>0.0</td>\n",
       "      <td>-0.075573</td>\n",
       "      <td>0.029482</td>\n",
       "      <td>-0.023041</td>\n",
       "      <td>0.028796</td>\n",
       "      <td>-0.014192</td>\n",
       "      <td>...</td>\n",
       "      <td>0.0</td>\n",
       "      <td>0.0</td>\n",
       "      <td>-0.11572</td>\n",
       "      <td>0.0</td>\n",
       "      <td>0.00000</td>\n",
       "      <td>0.00000</td>\n",
       "      <td>-0.007792</td>\n",
       "      <td>-0.25</td>\n",
       "      <td>0.0000</td>\n",
       "      <td>0.0</td>\n",
       "    </tr>\n",
       "    <tr>\n",
       "      <th>1993-02-03</th>\n",
       "      <td>0.0</td>\n",
       "      <td>0.060124</td>\n",
       "      <td>-0.024857</td>\n",
       "      <td>0.0</td>\n",
       "      <td>0.0</td>\n",
       "      <td>-0.151128</td>\n",
       "      <td>0.003689</td>\n",
       "      <td>-0.253454</td>\n",
       "      <td>-0.043190</td>\n",
       "      <td>-0.007105</td>\n",
       "      <td>...</td>\n",
       "      <td>0.0</td>\n",
       "      <td>0.0</td>\n",
       "      <td>-0.08679</td>\n",
       "      <td>0.0</td>\n",
       "      <td>0.04167</td>\n",
       "      <td>-0.04167</td>\n",
       "      <td>-0.038919</td>\n",
       "      <td>-0.50</td>\n",
       "      <td>0.0625</td>\n",
       "      <td>0.0</td>\n",
       "    </tr>\n",
       "    <tr>\n",
       "      <th>1993-02-04</th>\n",
       "      <td>0.0</td>\n",
       "      <td>-0.360770</td>\n",
       "      <td>-0.060757</td>\n",
       "      <td>0.0</td>\n",
       "      <td>0.0</td>\n",
       "      <td>0.113350</td>\n",
       "      <td>-0.022114</td>\n",
       "      <td>0.069862</td>\n",
       "      <td>0.000000</td>\n",
       "      <td>-0.007096</td>\n",
       "      <td>...</td>\n",
       "      <td>0.0</td>\n",
       "      <td>0.0</td>\n",
       "      <td>0.14465</td>\n",
       "      <td>0.0</td>\n",
       "      <td>-0.04166</td>\n",
       "      <td>-0.03126</td>\n",
       "      <td>-0.046711</td>\n",
       "      <td>0.00</td>\n",
       "      <td>0.0625</td>\n",
       "      <td>0.0</td>\n",
       "    </tr>\n",
       "  </tbody>\n",
       "</table>\n",
       "<p>5 rows × 517 columns</p>\n",
       "</div>"
      ],
      "text/plain": [
       "            ADS        CA      MSFT  RHT  CTSH       CSC       EMC       IBM  \\\n",
       "1993-01-29  0.0  0.060124 -0.022100  0.0   0.0  0.018897  0.007368  0.092165   \n",
       "1993-02-01  0.0 -0.180389  0.027621  0.0   0.0  0.018889  0.018425  0.115207   \n",
       "1993-02-02  0.0 -0.120257  0.035900  0.0   0.0 -0.075573  0.029482 -0.023041   \n",
       "1993-02-03  0.0  0.060124 -0.024857  0.0   0.0 -0.151128  0.003689 -0.253454   \n",
       "1993-02-04  0.0 -0.360770 -0.060757  0.0   0.0  0.113350 -0.022114  0.069862   \n",
       "\n",
       "                 XRX      ALTR  ...  WAT  ALXN     AMGN  BXLT     BIIB  \\\n",
       "1993-01-29  0.259140 -0.007105  ...  0.0   0.0  0.34716   0.0  0.04167   \n",
       "1993-02-01 -0.100775  0.063893  ...  0.0   0.0 -0.23144   0.0  0.00000   \n",
       "1993-02-02  0.028796 -0.014192  ...  0.0   0.0 -0.11572   0.0  0.00000   \n",
       "1993-02-03 -0.043190 -0.007105  ...  0.0   0.0 -0.08679   0.0  0.04167   \n",
       "1993-02-04  0.000000 -0.007096  ...  0.0   0.0  0.14465   0.0 -0.04166   \n",
       "\n",
       "               CELG      GILD  REGN    VRTX  HSIC  \n",
       "1993-01-29  0.00000  0.015564  1.75  0.1250   0.0  \n",
       "1993-02-01 -0.01041  0.007782  1.25  0.1250   0.0  \n",
       "1993-02-02  0.00000 -0.007792 -0.25  0.0000   0.0  \n",
       "1993-02-03 -0.04167 -0.038919 -0.50  0.0625   0.0  \n",
       "1993-02-04 -0.03126 -0.046711  0.00  0.0625   0.0  \n",
       "\n",
       "[5 rows x 517 columns]"
      ]
     },
     "execution_count": 29,
     "metadata": {},
     "output_type": "execute_result"
    }
   ],
   "source": [
    "sp500_px.head()"
   ]
  },
  {
   "cell_type": "code",
   "execution_count": 30,
   "metadata": {
    "scrolled": true
   },
   "outputs": [
    {
     "data": {
      "text/html": [
       "<div>\n",
       "<style scoped>\n",
       "    .dataframe tbody tr th:only-of-type {\n",
       "        vertical-align: middle;\n",
       "    }\n",
       "\n",
       "    .dataframe tbody tr th {\n",
       "        vertical-align: top;\n",
       "    }\n",
       "\n",
       "    .dataframe thead th {\n",
       "        text-align: right;\n",
       "    }\n",
       "</style>\n",
       "<table border=\"1\" class=\"dataframe\">\n",
       "  <thead>\n",
       "    <tr style=\"text-align: right;\">\n",
       "      <th></th>\n",
       "      <th>T</th>\n",
       "      <th>CTL</th>\n",
       "      <th>FTR</th>\n",
       "      <th>VZ</th>\n",
       "      <th>LVLT</th>\n",
       "    </tr>\n",
       "  </thead>\n",
       "  <tbody>\n",
       "    <tr>\n",
       "      <th>T</th>\n",
       "      <td>1.000000</td>\n",
       "      <td>0.474683</td>\n",
       "      <td>0.327767</td>\n",
       "      <td>0.677612</td>\n",
       "      <td>0.278626</td>\n",
       "    </tr>\n",
       "    <tr>\n",
       "      <th>CTL</th>\n",
       "      <td>0.474683</td>\n",
       "      <td>1.000000</td>\n",
       "      <td>0.419757</td>\n",
       "      <td>0.416604</td>\n",
       "      <td>0.286665</td>\n",
       "    </tr>\n",
       "    <tr>\n",
       "      <th>FTR</th>\n",
       "      <td>0.327767</td>\n",
       "      <td>0.419757</td>\n",
       "      <td>1.000000</td>\n",
       "      <td>0.287386</td>\n",
       "      <td>0.260068</td>\n",
       "    </tr>\n",
       "    <tr>\n",
       "      <th>VZ</th>\n",
       "      <td>0.677612</td>\n",
       "      <td>0.416604</td>\n",
       "      <td>0.287386</td>\n",
       "      <td>1.000000</td>\n",
       "      <td>0.242199</td>\n",
       "    </tr>\n",
       "    <tr>\n",
       "      <th>LVLT</th>\n",
       "      <td>0.278626</td>\n",
       "      <td>0.286665</td>\n",
       "      <td>0.260068</td>\n",
       "      <td>0.242199</td>\n",
       "      <td>1.000000</td>\n",
       "    </tr>\n",
       "  </tbody>\n",
       "</table>\n",
       "</div>"
      ],
      "text/plain": [
       "             T       CTL       FTR        VZ      LVLT\n",
       "T     1.000000  0.474683  0.327767  0.677612  0.278626\n",
       "CTL   0.474683  1.000000  0.419757  0.416604  0.286665\n",
       "FTR   0.327767  0.419757  1.000000  0.287386  0.260068\n",
       "VZ    0.677612  0.416604  0.287386  1.000000  0.242199\n",
       "LVLT  0.278626  0.286665  0.260068  0.242199  1.000000"
      ]
     },
     "execution_count": 30,
     "metadata": {},
     "output_type": "execute_result"
    }
   ],
   "source": [
    "telecom.corr()"
   ]
  },
  {
   "cell_type": "code",
   "execution_count": 31,
   "metadata": {},
   "outputs": [
    {
     "data": {
      "text/plain": [
       "<AxesSubplot:>"
      ]
     },
     "execution_count": 31,
     "metadata": {},
     "output_type": "execute_result"
    },
    {
     "data": {
      "image/png": "[encoded data removed]",
      "text/plain": [
       "<Figure size 432x288 with 2 Axes>"
      ]
     },
     "metadata": {
      "needs_background": "light"
     },
     "output_type": "display_data"
    }
   ],
   "source": [
    "sns.heatmap(telecom.corr(),vmin=-1,vmax=1,cmap=sns.diverging_palette(20,220,as_cmap=True))"
   ]
  },
  {
   "cell_type": "code",
   "execution_count": 32,
   "metadata": {},
   "outputs": [
    {
     "data": {
      "text/plain": [
       "<AxesSubplot:>"
      ]
     },
     "execution_count": 32,
     "metadata": {},
     "output_type": "execute_result"
    },
    {
     "data": {
      "image/png": "[encoded data removed]",
      "text/plain": [
       "<Figure size 432x288 with 2 Axes>"
      ]
     },
     "metadata": {
      "needs_background": "light"
     },
     "output_type": "display_data"
    }
   ],
   "source": [
    "etfs=sp500_px.loc[sp500_px.index>'2012-07-01',sp500_sym[sp500_sym['sector']=='etf']['symbol']]\n",
    "sns.heatmap(etfs.corr(),vmin=-1,vmax=1,cmap=sns.diverging_palette(20,220,as_cmap=True))"
   ]
  },
  {
   "cell_type": "code",
   "execution_count": 33,
   "metadata": {
    "scrolled": true
   },
   "outputs": [
    {
     "data": {
      "image/png": "[encoded data removed]",
      "text/plain": [
       "<Figure size 288x288 with 1 Axes>"
      ]
     },
     "metadata": {
      "needs_background": "light"
     },
     "output_type": "display_data"
    }
   ],
   "source": [
    "ax=telecom.plot.scatter(x='T',y='VZ',figsize=(4,4),marker='$\\u25EF$')\n",
    "ax.set_xlabel ('ATT(T)')\n",
    "ax.set_ylabel('Verizon(VZ)')\n",
    "ax.axhline(0,color='r', lw=1)\n",
    "ax.axvline(0,color='r', lw=1)\n",
    "plt.tight_layout()"
   ]
  },
  {
   "cell_type": "code",
   "execution_count": 34,
   "metadata": {},
   "outputs": [],
   "source": [
    "kc_tax=pd.read_csv(KC_TAX_CSV)"
   ]
  },
  {
   "cell_type": "code",
   "execution_count": 35,
   "metadata": {},
   "outputs": [
    {
     "data": {
      "text/html": [
       "<div>\n",
       "<style scoped>\n",
       "    .dataframe tbody tr th:only-of-type {\n",
       "        vertical-align: middle;\n",
       "    }\n",
       "\n",
       "    .dataframe tbody tr th {\n",
       "        vertical-align: top;\n",
       "    }\n",
       "\n",
       "    .dataframe thead th {\n",
       "        text-align: right;\n",
       "    }\n",
       "</style>\n",
       "<table border=\"1\" class=\"dataframe\">\n",
       "  <thead>\n",
       "    <tr style=\"text-align: right;\">\n",
       "      <th></th>\n",
       "      <th>TaxAssessedValue</th>\n",
       "      <th>SqFtTotLiving</th>\n",
       "      <th>ZipCode</th>\n",
       "    </tr>\n",
       "  </thead>\n",
       "  <tbody>\n",
       "    <tr>\n",
       "      <th>1</th>\n",
       "      <td>206000.0</td>\n",
       "      <td>1870</td>\n",
       "      <td>98002.0</td>\n",
       "    </tr>\n",
       "    <tr>\n",
       "      <th>2</th>\n",
       "      <td>303000.0</td>\n",
       "      <td>1530</td>\n",
       "      <td>98166.0</td>\n",
       "    </tr>\n",
       "    <tr>\n",
       "      <th>3</th>\n",
       "      <td>361000.0</td>\n",
       "      <td>2000</td>\n",
       "      <td>98108.0</td>\n",
       "    </tr>\n",
       "    <tr>\n",
       "      <th>4</th>\n",
       "      <td>459000.0</td>\n",
       "      <td>3150</td>\n",
       "      <td>98108.0</td>\n",
       "    </tr>\n",
       "    <tr>\n",
       "      <th>5</th>\n",
       "      <td>223000.0</td>\n",
       "      <td>1570</td>\n",
       "      <td>98032.0</td>\n",
       "    </tr>\n",
       "  </tbody>\n",
       "</table>\n",
       "</div>"
      ],
      "text/plain": [
       "   TaxAssessedValue  SqFtTotLiving  ZipCode\n",
       "1          206000.0           1870  98002.0\n",
       "2          303000.0           1530  98166.0\n",
       "3          361000.0           2000  98108.0\n",
       "4          459000.0           3150  98108.0\n",
       "5          223000.0           1570  98032.0"
      ]
     },
     "execution_count": 35,
     "metadata": {},
     "output_type": "execute_result"
    }
   ],
   "source": [
    "kc_tax0=kc_tax.loc[(kc_tax.TaxAssessedValue<750000)&(kc_tax.SqFtTotLiving>100)&(kc_tax.SqFtTotLiving<3500),:]\n",
    "kc_tax0.head()"
   ]
  },
  {
   "cell_type": "markdown",
   "metadata": {},
   "source": [
    "# Hexagonal binning and Contours"
   ]
  },
  {
   "cell_type": "code",
   "execution_count": 36,
   "metadata": {
    "scrolled": false
   },
   "outputs": [
    {
     "data": {
      "text/plain": [
       "Text(0, 0.5, 'Tax-Assessed Value')"
      ]
     },
     "execution_count": 36,
     "metadata": {},
     "output_type": "execute_result"
    },
    {
     "data": {
      "image/png": "[encoded data removed]",
      "text/plain": [
       "<Figure size 360x288 with 2 Axes>"
      ]
     },
     "metadata": {
      "needs_background": "light"
     },
     "output_type": "display_data"
    }
   ],
   "source": [
    "ax=kc_tax0.plot.hexbin(x='SqFtTotLiving',y='TaxAssessedValue',gridsize=30,sharex=False,figsize=(5,4))\n",
    "ax.set_xlabel('Finished Square Feet')\n",
    "ax.set_ylabel('Tax-Assessed Value')"
   ]
  },
  {
   "cell_type": "markdown",
   "metadata": {},
   "source": [
    "fig, ax = plt.subplots(figsize=(4, 4))\n",
    "sns.kdeplot(data=kc_tax0, x='SqFtTotLiving', y='TaxAssessedValue', ax=ax)\n",
    "ax.set_xlabel('Finished Square Feet')\n",
    "ax.set_ylabel('Tax Assessed Value')\n",
    "\n",
    "plt.tight_layout()\n",
    "plt.show()"
   ]
  },
  {
   "cell_type": "markdown",
   "metadata": {},
   "source": [
    "fig, ax = plt.subplots(figsize=(4, 4))\n",
    "ax = sns.kdeplot(data=kc_tax0, x='SqFtTotLiving',y= 'TaxAssessedValue', ax=ax)"
   ]
  },
  {
   "cell_type": "code",
   "execution_count": 37,
   "metadata": {},
   "outputs": [],
   "source": [
    "lc_loans=pd.read_csv(LC_LOANS_CSV)"
   ]
  },
  {
   "cell_type": "code",
   "execution_count": 41,
   "metadata": {},
   "outputs": [
    {
     "data": {
      "text/html": [
       "<div>\n",
       "<style scoped>\n",
       "    .dataframe tbody tr th:only-of-type {\n",
       "        vertical-align: middle;\n",
       "    }\n",
       "\n",
       "    .dataframe tbody tr th {\n",
       "        vertical-align: top;\n",
       "    }\n",
       "\n",
       "    .dataframe thead th {\n",
       "        text-align: right;\n",
       "    }\n",
       "</style>\n",
       "<table border=\"1\" class=\"dataframe\">\n",
       "  <thead>\n",
       "    <tr style=\"text-align: right;\">\n",
       "      <th>status</th>\n",
       "      <th>Charged Off</th>\n",
       "      <th>Current</th>\n",
       "      <th>Fully Paid</th>\n",
       "      <th>Late</th>\n",
       "      <th>All</th>\n",
       "    </tr>\n",
       "    <tr>\n",
       "      <th>grade</th>\n",
       "      <th></th>\n",
       "      <th></th>\n",
       "      <th></th>\n",
       "      <th></th>\n",
       "      <th></th>\n",
       "    </tr>\n",
       "  </thead>\n",
       "  <tbody>\n",
       "    <tr>\n",
       "      <th>A</th>\n",
       "      <td>1562</td>\n",
       "      <td>50051</td>\n",
       "      <td>20408</td>\n",
       "      <td>469</td>\n",
       "      <td>72490</td>\n",
       "    </tr>\n",
       "    <tr>\n",
       "      <th>B</th>\n",
       "      <td>5302</td>\n",
       "      <td>93852</td>\n",
       "      <td>31160</td>\n",
       "      <td>2056</td>\n",
       "      <td>132370</td>\n",
       "    </tr>\n",
       "    <tr>\n",
       "      <th>C</th>\n",
       "      <td>6023</td>\n",
       "      <td>88928</td>\n",
       "      <td>23147</td>\n",
       "      <td>2777</td>\n",
       "      <td>120875</td>\n",
       "    </tr>\n",
       "    <tr>\n",
       "      <th>D</th>\n",
       "      <td>5007</td>\n",
       "      <td>53281</td>\n",
       "      <td>13681</td>\n",
       "      <td>2308</td>\n",
       "      <td>74277</td>\n",
       "    </tr>\n",
       "    <tr>\n",
       "      <th>E</th>\n",
       "      <td>2842</td>\n",
       "      <td>24639</td>\n",
       "      <td>5949</td>\n",
       "      <td>1374</td>\n",
       "      <td>34804</td>\n",
       "    </tr>\n",
       "    <tr>\n",
       "      <th>F</th>\n",
       "      <td>1526</td>\n",
       "      <td>8444</td>\n",
       "      <td>2328</td>\n",
       "      <td>606</td>\n",
       "      <td>12904</td>\n",
       "    </tr>\n",
       "    <tr>\n",
       "      <th>G</th>\n",
       "      <td>409</td>\n",
       "      <td>1990</td>\n",
       "      <td>643</td>\n",
       "      <td>199</td>\n",
       "      <td>3241</td>\n",
       "    </tr>\n",
       "    <tr>\n",
       "      <th>All</th>\n",
       "      <td>22671</td>\n",
       "      <td>321185</td>\n",
       "      <td>97316</td>\n",
       "      <td>9789</td>\n",
       "      <td>450961</td>\n",
       "    </tr>\n",
       "  </tbody>\n",
       "</table>\n",
       "</div>"
      ],
      "text/plain": [
       "status  Charged Off  Current  Fully Paid  Late     All\n",
       "grade                                                 \n",
       "A              1562    50051       20408   469   72490\n",
       "B              5302    93852       31160  2056  132370\n",
       "C              6023    88928       23147  2777  120875\n",
       "D              5007    53281       13681  2308   74277\n",
       "E              2842    24639        5949  1374   34804\n",
       "F              1526     8444        2328   606   12904\n",
       "G               409     1990         643   199    3241\n",
       "All           22671   321185       97316  9789  450961"
      ]
     },
     "execution_count": 41,
     "metadata": {},
     "output_type": "execute_result"
    }
   ],
   "source": [
    "crosstab=lc_loans.pivot_table(index='grade',columns='status',aggfunc=lambda x:len(x),margins=True)\n",
    "crosstab"
   ]
  },
  {
   "cell_type": "code",
   "execution_count": 56,
   "metadata": {},
   "outputs": [
    {
     "name": "stdout",
     "output_type": "stream",
     "text": [
      "<class 'pandas.core.frame.DataFrame'>\n",
      "Index: 7 entries, A to G\n",
      "Data columns (total 5 columns):\n",
      " #   Column       Non-Null Count  Dtype\n",
      "---  ------       --------------  -----\n",
      " 0   Charged Off  7 non-null      int64\n",
      " 1   Current      7 non-null      int64\n",
      " 2   Fully Paid   7 non-null      int64\n",
      " 3   Late         7 non-null      int64\n",
      " 4   All          7 non-null      int64\n",
      "dtypes: int64(5)\n",
      "memory usage: 336.0+ bytes\n"
     ]
    }
   ],
   "source": [
    "df=crosstab.loc['A':'G',:].copy()\n",
    "df.info()"
   ]
  },
  {
   "cell_type": "code",
   "execution_count": 57,
   "metadata": {},
   "outputs": [
    {
     "data": {
      "text/html": [
       "<div>\n",
       "<style scoped>\n",
       "    .dataframe tbody tr th:only-of-type {\n",
       "        vertical-align: middle;\n",
       "    }\n",
       "\n",
       "    .dataframe tbody tr th {\n",
       "        vertical-align: top;\n",
       "    }\n",
       "\n",
       "    .dataframe thead th {\n",
       "        text-align: right;\n",
       "    }\n",
       "</style>\n",
       "<table border=\"1\" class=\"dataframe\">\n",
       "  <thead>\n",
       "    <tr style=\"text-align: right;\">\n",
       "      <th>status</th>\n",
       "      <th>Charged Off</th>\n",
       "      <th>Current</th>\n",
       "      <th>Fully Paid</th>\n",
       "      <th>Late</th>\n",
       "      <th>All</th>\n",
       "    </tr>\n",
       "    <tr>\n",
       "      <th>grade</th>\n",
       "      <th></th>\n",
       "      <th></th>\n",
       "      <th></th>\n",
       "      <th></th>\n",
       "      <th></th>\n",
       "    </tr>\n",
       "  </thead>\n",
       "  <tbody>\n",
       "    <tr>\n",
       "      <th>A</th>\n",
       "      <td>0.021548</td>\n",
       "      <td>0.690454</td>\n",
       "      <td>0.281528</td>\n",
       "      <td>0.006470</td>\n",
       "      <td>0.160746</td>\n",
       "    </tr>\n",
       "    <tr>\n",
       "      <th>B</th>\n",
       "      <td>0.040054</td>\n",
       "      <td>0.709013</td>\n",
       "      <td>0.235401</td>\n",
       "      <td>0.015532</td>\n",
       "      <td>0.293529</td>\n",
       "    </tr>\n",
       "    <tr>\n",
       "      <th>C</th>\n",
       "      <td>0.049828</td>\n",
       "      <td>0.735702</td>\n",
       "      <td>0.191495</td>\n",
       "      <td>0.022974</td>\n",
       "      <td>0.268039</td>\n",
       "    </tr>\n",
       "    <tr>\n",
       "      <th>D</th>\n",
       "      <td>0.067410</td>\n",
       "      <td>0.717328</td>\n",
       "      <td>0.184189</td>\n",
       "      <td>0.031073</td>\n",
       "      <td>0.164708</td>\n",
       "    </tr>\n",
       "    <tr>\n",
       "      <th>E</th>\n",
       "      <td>0.081657</td>\n",
       "      <td>0.707936</td>\n",
       "      <td>0.170929</td>\n",
       "      <td>0.039478</td>\n",
       "      <td>0.077177</td>\n",
       "    </tr>\n",
       "    <tr>\n",
       "      <th>F</th>\n",
       "      <td>0.118258</td>\n",
       "      <td>0.654371</td>\n",
       "      <td>0.180409</td>\n",
       "      <td>0.046962</td>\n",
       "      <td>0.028614</td>\n",
       "    </tr>\n",
       "    <tr>\n",
       "      <th>G</th>\n",
       "      <td>0.126196</td>\n",
       "      <td>0.614008</td>\n",
       "      <td>0.198396</td>\n",
       "      <td>0.061401</td>\n",
       "      <td>0.007187</td>\n",
       "    </tr>\n",
       "  </tbody>\n",
       "</table>\n",
       "</div>"
      ],
      "text/plain": [
       "status  Charged Off   Current  Fully Paid      Late       All\n",
       "grade                                                        \n",
       "A          0.021548  0.690454    0.281528  0.006470  0.160746\n",
       "B          0.040054  0.709013    0.235401  0.015532  0.293529\n",
       "C          0.049828  0.735702    0.191495  0.022974  0.268039\n",
       "D          0.067410  0.717328    0.184189  0.031073  0.164708\n",
       "E          0.081657  0.707936    0.170929  0.039478  0.077177\n",
       "F          0.118258  0.654371    0.180409  0.046962  0.028614\n",
       "G          0.126196  0.614008    0.198396  0.061401  0.007187"
      ]
     },
     "execution_count": 57,
     "metadata": {},
     "output_type": "execute_result"
    }
   ],
   "source": [
    "df.loc[:,'Charged Off':'Late']=df.loc[:,'Charged Off':'Late'].div(df['All'],axis=0)\n",
    "df['All'] = df['All'] / sum(df['All'])\n",
    "perc_crosstab = df\n",
    "perc_crosstab"
   ]
  },
  {
   "cell_type": "code",
   "execution_count": 65,
   "metadata": {},
   "outputs": [
    {
     "data": {
      "text/plain": [
       "Text(0.5, 0.98, '')"
      ]
     },
     "execution_count": 65,
     "metadata": {},
     "output_type": "execute_result"
    },
    {
     "data": {
      "image/png": "[encoded data removed]",
      "text/plain": [
       "<Figure size 432x288 with 1 Axes>"
      ]
     },
     "metadata": {
      "needs_background": "light"
     },
     "output_type": "display_data"
    }
   ],
   "source": [
    "airline_stats=pd.read_csv(AIRLINE_STATS_CSV)\n",
    "ax=airline_stats.boxplot(by='airline',column='pct_carrier_delay')\n",
    "ax.set_ylabel('Daily % of Delayed Flights')\n",
    "ax.set_xlabel('')\n",
    "plt.suptitle('')"
   ]
  },
  {
   "cell_type": "code",
   "execution_count": 77,
   "metadata": {},
   "outputs": [
    {
     "data": {
      "image/png": "[encoded data removed]",
      "text/plain": [
       "<Figure size 360x360 with 1 Axes>"
      ]
     },
     "metadata": {
      "needs_background": "light"
     },
     "output_type": "display_data"
    }
   ],
   "source": [
    "fig, ax=plt.subplots(figsize=(5,5))\n",
    "sns.violinplot(data=airline_stats,x='airline', y='pct_carrier_delay',ax=ax, inner='quartile',color='white')\n",
    "\n",
    "ax.set_xlabel('')\n",
    "plt.tight_layout()\n",
    "plt.show()"
   ]
  },
  {
   "cell_type": "code",
   "execution_count": 85,
   "metadata": {
    "scrolled": true
   },
   "outputs": [
    {
     "data": {
      "text/plain": [
       "<seaborn.axisgrid.FacetGrid at 0x259d42a940>"
      ]
     },
     "execution_count": 85,
     "metadata": {},
     "output_type": "execute_result"
    },
    {
     "data": {
      "image/png": "[encoded data removed]",
      "text/plain": [
       "<Figure size 432x432 with 4 Axes>"
      ]
     },
     "metadata": {
      "needs_background": "light"
     },
     "output_type": "display_data"
    }
   ],
   "source": [
    "zip_codes = [98188, 98105, 98108, 98126]\n",
    "kc_tax_zip=kc_tax0.loc[kc_tax0.ZipCode.isin(zip_codes),:]\n",
    "def hexbin(x, y, color, **kwargs):\n",
    "    cmap = sns.light_palette(color, as_cmap=True)\n",
    "    plt.hexbin(x, y, gridsize=25, cmap=cmap, **kwargs)\n",
    "g=sns.FacetGrid(kc_tax_zip,col='ZipCode',col_wrap=2)\n",
    "\n",
    "g.set_axis_labels('Finished Square Feet', 'Tax-Assessed Value')\n",
    "g.set_titles('Zip code {col_name:.0f}')\n",
    "g.map(hexbin,'SqFtTotLiving', 'TaxAssessedValue',extent=[0, 3500, 0, 700000])"
   ]
  },
  {
   "cell_type": "code",
   "execution_count": null,
   "metadata": {},
   "outputs": [],
   "source": []
  }
 ],
 "metadata": {
  "kernelspec": {
   "display_name": "Python 3",
   "language": "python",
   "name": "python3"
  },
  "language_info": {
   "codemirror_mode": {
    "name": "ipython",
    "version": 3
   },
   "file_extension": ".py",
   "mimetype": "text/x-python",
   "name": "python",
   "nbconvert_exporter": "python",
   "pygments_lexer": "ipython3",
   "version": "3.8.5"
  }
 },
 "nbformat": 4,
 "nbformat_minor": 4
}
