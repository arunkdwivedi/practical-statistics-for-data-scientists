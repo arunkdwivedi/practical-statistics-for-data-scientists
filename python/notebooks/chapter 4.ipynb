{
 "cells": [
  {
   "cell_type": "code",
   "execution_count": 1,
   "metadata": {},
   "outputs": [
    {
     "data": {
      "text/plain": [
       "'C:\\\\Users\\\\a\\\\git\\\\practical-statistics-for-data-scientists\\\\python\\\\notebooks'"
      ]
     },
     "execution_count": 1,
     "metadata": {},
     "output_type": "execute_result"
    }
   ],
   "source": [
    "import os\n",
    "os.getcwd()"
   ]
  },
  {
   "cell_type": "code",
   "execution_count": 2,
   "metadata": {
    "scrolled": true
   },
   "outputs": [],
   "source": [
    "from pathlib import Path\n",
    "\n",
    "import pandas as pd\n",
    "import numpy as np\n",
    "from sklearn.metrics import r2_score, mean_squared_error\n",
    "from sklearn.linear_model import LinearRegression\n",
    "\n",
    "import statsmodels.api as sm\n",
    "import statsmodels.formula.api as smf\n",
    "from statsmodels.stats.outliers_influence import OLSInfluence\n"
   ]
  },
  {
   "cell_type": "code",
   "execution_count": 3,
   "metadata": {},
   "outputs": [
    {
     "name": "stdout",
     "output_type": "stream",
     "text": [
      "Requirement already satisfied: pygam in c:\\users\\a\\anaconda3\\lib\\site-packages (0.8.0)Note: you may need to restart the kernel to use updated packages.\n",
      "Requirement already satisfied: numpy in c:\\users\\a\\anaconda3\\lib\\site-packages (from pygam) (1.19.2)\n",
      "Requirement already satisfied: progressbar2 in c:\\users\\a\\anaconda3\\lib\\site-packages (from pygam) (3.53.1)\n",
      "Requirement already satisfied: future in c:\\users\\a\\anaconda3\\lib\\site-packages (from pygam) (0.18.2)\n",
      "Requirement already satisfied: scipy in c:\\users\\a\\anaconda3\\lib\\site-packages (from pygam) (1.5.2)\n",
      "Requirement already satisfied: six in c:\\users\\a\\anaconda3\\lib\\site-packages (from progressbar2->pygam) (1.15.0)\n",
      "Requirement already satisfied: python-utils>=2.3.0 in c:\\users\\a\\anaconda3\\lib\\site-packages (from progressbar2->pygam) (2.5.6)\n",
      "\n"
     ]
    }
   ],
   "source": [
    "pip install pygam"
   ]
  },
  {
   "cell_type": "code",
   "execution_count": 4,
   "metadata": {
    "scrolled": true
   },
   "outputs": [],
   "source": [
    "from pygam import LinearGAM, s, l\n",
    "from pygam.datasets import wage\n",
    "\n",
    "\n",
    "import seaborn as sns\n",
    "import matplotlib.pyplot as plt\n",
    "\n"
   ]
  },
  {
   "cell_type": "code",
   "execution_count": 5,
   "metadata": {},
   "outputs": [
    {
     "name": "stdout",
     "output_type": "stream",
     "text": [
      "Requirement already satisfied: dmba in c:\\users\\a\\anaconda3\\lib\\site-packages (0.0.18)\n",
      "Note: you may need to restart the kernel to use updated packages.\n"
     ]
    }
   ],
   "source": [
    "pip install dmba"
   ]
  },
  {
   "cell_type": "code",
   "execution_count": 6,
   "metadata": {},
   "outputs": [],
   "source": [
    "from dmba import stepwise_selection\n",
    "from dmba import AIC_score"
   ]
  },
  {
   "cell_type": "code",
   "execution_count": 7,
   "metadata": {},
   "outputs": [],
   "source": [
    "%matplotlib inline\n",
    "try:\n",
    "    import common\n",
    "    DATA = common.dataDirectory()\n",
    "except ImportError:\n",
    "    DATA = Path().resolve() / 'data'"
   ]
  },
  {
   "cell_type": "code",
   "execution_count": 8,
   "metadata": {},
   "outputs": [],
   "source": [
    "LUNG_CSV = DATA / 'LungDisease.csv'\n",
    "HOUSE_CSV = DATA / 'house_sales.csv'"
   ]
  },
  {
   "cell_type": "code",
   "execution_count": 9,
   "metadata": {},
   "outputs": [],
   "source": [
    "lung=pd.read_csv(LUNG_CSV)\n",
    "house=pd.read_csv(HOUSE_CSV)"
   ]
  },
  {
   "cell_type": "code",
   "execution_count": 10,
   "metadata": {},
   "outputs": [
    {
     "name": "stdout",
     "output_type": "stream",
     "text": [
      "Intercept= 424.582806573957 \n",
      "Coeficient Exposure= [-4.18457649]\n"
     ]
    }
   ],
   "source": [
    "predictors=['Exposure']\n",
    "outcome='PEFR'\n",
    "model=LinearRegression()\n",
    "model.fit(lung[predictors], lung[outcome])\n",
    "print('Intercept=',model.intercept_,'\\nCoeficient Exposure=', model.coef_)"
   ]
  },
  {
   "cell_type": "code",
   "execution_count": 11,
   "metadata": {},
   "outputs": [
    {
     "data": {
      "text/plain": [
       "<AxesSubplot:xlabel='Exposure', ylabel='PEFR'>"
      ]
     },
     "execution_count": 11,
     "metadata": {},
     "output_type": "execute_result"
    },
    {
     "data": {
      "image/png": "[encoded data removed]",
      "text/plain": [
       "<Figure size 432x288 with 1 Axes>"
      ]
     },
     "metadata": {
      "needs_background": "light"
     },
     "output_type": "display_data"
    }
   ],
   "source": [
    "lung.plot.scatter(x='Exposure',y='PEFR')"
   ]
  },
  {
   "cell_type": "code",
   "execution_count": 12,
   "metadata": {
    "scrolled": true
   },
   "outputs": [
    {
     "data": {
      "text/plain": [
       "[<matplotlib.lines.Line2D at 0xfe19d04d60>]"
      ]
     },
     "execution_count": 12,
     "metadata": {},
     "output_type": "execute_result"
    },
    {
     "data": {
      "image/png": "[encoded data removed]",
      "text/plain": [
       "<Figure size 288x288 with 1 Axes>"
      ]
     },
     "metadata": {
      "needs_background": "light"
     },
     "output_type": "display_data"
    }
   ],
   "source": [
    "fig, ax=plt.subplots(figsize=(4,4))\n",
    "ax.set_xlim(0, 23)\n",
    "ax.set_ylim(295,450)\n",
    "ax.plot((0,23),model.predict([[0],[23]]))\n",
    "\n",
    "\n",
    "x=[[7.5],[17.5]]\n",
    "y=model.predict(x)\n",
    "ax.plot((7.5,7.5,17.5),(y[0],y[1],y[1]),'--')\n"
   ]
  },
  {
   "cell_type": "code",
   "execution_count": 13,
   "metadata": {},
   "outputs": [],
   "source": [
    "fitted=model.predict(lung[predictors])\n",
    "residuals=lung[outcome]-fitted\n"
   ]
  },
  {
   "cell_type": "code",
   "execution_count": 14,
   "metadata": {
    "scrolled": true
   },
   "outputs": [
    {
     "data": {
      "image/png": "[encoded data removed]",
      "text/plain": [
       "<Figure size 288x288 with 1 Axes>"
      ]
     },
     "metadata": {
      "needs_background": "light"
     },
     "output_type": "display_data"
    }
   ],
   "source": [
    "ax=lung.plot.scatter(x='Exposure',y='PEFR',figsize=(4,4))\n",
    "ax.plot(lung.Exposure,fitted)\n",
    "for x, yactual, yfitted in zip(lung.Exposure, lung.PEFR, fitted):\n",
    "    ax.plot((x,x),(yactual,yfitted),'--',color='C1')"
   ]
  },
  {
   "cell_type": "code",
   "execution_count": 15,
   "metadata": {},
   "outputs": [],
   "source": [
    "house = pd.read_csv(HOUSE_CSV, sep='\\t')"
   ]
  },
  {
   "cell_type": "code",
   "execution_count": 16,
   "metadata": {},
   "outputs": [
    {
     "name": "stdout",
     "output_type": "stream",
     "text": [
      "Intercept= -521871.36818828445 \n",
      "Coefficients=\n",
      "SqFtTotLiving : 228.8306036024076\n",
      "SqFtLot : -0.06046682065307258\n",
      "Bathrooms : -19442.840398320994\n",
      "Bedrooms : -47769.955185214334\n",
      "BldgGrade : 106106.96307898096\n"
     ]
    }
   ],
   "source": [
    "predictors=['SqFtTotLiving', 'SqFtLot', 'Bathrooms', 'Bedrooms', 'BldgGrade']\n",
    "outcome = 'AdjSalePrice'\n",
    "house_lm=LinearRegression()\n",
    "house_lm.fit(house[predictors],house[outcome])\n",
    "print ('Intercept=',house_lm.intercept_,'\\nCoefficients=',)\n",
    "for name, coef in zip(predictors, house_lm.coef_):\n",
    "    print(name,':',coef)"
   ]
  },
  {
   "cell_type": "code",
   "execution_count": 17,
   "metadata": {},
   "outputs": [
    {
     "name": "stdout",
     "output_type": "stream",
     "text": [
      "RMSE: 261220\n",
      "r2: 0.5406\n"
     ]
    }
   ],
   "source": [
    "fitted=house_lm.predict(house[predictors])\n",
    "RMSE=np.sqrt(mean_squared_error(house[outcome], fitted))\n",
    "r2=r2_score(house[outcome], fitted)\n",
    "print(f'RMSE: {RMSE:.0f}')\n",
    "print(f'r2: {r2:.4f}')"
   ]
  },
  {
   "cell_type": "code",
   "execution_count": 18,
   "metadata": {
    "scrolled": true
   },
   "outputs": [
    {
     "data": {
      "text/html": [
       "<table class=\"simpletable\">\n",
       "<caption>OLS Regression Results</caption>\n",
       "<tr>\n",
       "  <th>Dep. Variable:</th>      <td>AdjSalePrice</td>   <th>  R-squared:         </th>  <td>   0.541</td>  \n",
       "</tr>\n",
       "<tr>\n",
       "  <th>Model:</th>                   <td>OLS</td>       <th>  Adj. R-squared:    </th>  <td>   0.540</td>  \n",
       "</tr>\n",
       "<tr>\n",
       "  <th>Method:</th>             <td>Least Squares</td>  <th>  F-statistic:       </th>  <td>   5338.</td>  \n",
       "</tr>\n",
       "<tr>\n",
       "  <th>Date:</th>             <td>Mon, 12 Jul 2021</td> <th>  Prob (F-statistic):</th>   <td>  0.00</td>   \n",
       "</tr>\n",
       "<tr>\n",
       "  <th>Time:</th>                 <td>11:08:42</td>     <th>  Log-Likelihood:    </th> <td>-3.1517e+05</td>\n",
       "</tr>\n",
       "<tr>\n",
       "  <th>No. Observations:</th>      <td> 22687</td>      <th>  AIC:               </th>  <td>6.304e+05</td> \n",
       "</tr>\n",
       "<tr>\n",
       "  <th>Df Residuals:</th>          <td> 22681</td>      <th>  BIC:               </th>  <td>6.304e+05</td> \n",
       "</tr>\n",
       "<tr>\n",
       "  <th>Df Model:</th>              <td>     5</td>      <th>                     </th>      <td> </td>     \n",
       "</tr>\n",
       "<tr>\n",
       "  <th>Covariance Type:</th>      <td>nonrobust</td>    <th>                     </th>      <td> </td>     \n",
       "</tr>\n",
       "</table>\n",
       "<table class=\"simpletable\">\n",
       "<tr>\n",
       "        <td></td>           <th>coef</th>     <th>std err</th>      <th>t</th>      <th>P>|t|</th>  <th>[0.025</th>    <th>0.975]</th>  \n",
       "</tr>\n",
       "<tr>\n",
       "  <th>SqFtTotLiving</th> <td>  228.8306</td> <td>    3.899</td> <td>   58.694</td> <td> 0.000</td> <td>  221.189</td> <td>  236.472</td>\n",
       "</tr>\n",
       "<tr>\n",
       "  <th>SqFtLot</th>       <td>   -0.0605</td> <td>    0.061</td> <td>   -0.988</td> <td> 0.323</td> <td>   -0.180</td> <td>    0.059</td>\n",
       "</tr>\n",
       "<tr>\n",
       "  <th>Bathrooms</th>     <td>-1.944e+04</td> <td> 3625.388</td> <td>   -5.363</td> <td> 0.000</td> <td>-2.65e+04</td> <td>-1.23e+04</td>\n",
       "</tr>\n",
       "<tr>\n",
       "  <th>Bedrooms</th>      <td>-4.777e+04</td> <td> 2489.732</td> <td>  -19.187</td> <td> 0.000</td> <td>-5.27e+04</td> <td>-4.29e+04</td>\n",
       "</tr>\n",
       "<tr>\n",
       "  <th>BldgGrade</th>     <td> 1.061e+05</td> <td> 2396.445</td> <td>   44.277</td> <td> 0.000</td> <td> 1.01e+05</td> <td> 1.11e+05</td>\n",
       "</tr>\n",
       "<tr>\n",
       "  <th>const</th>         <td>-5.219e+05</td> <td> 1.57e+04</td> <td>  -33.342</td> <td> 0.000</td> <td>-5.53e+05</td> <td>-4.91e+05</td>\n",
       "</tr>\n",
       "</table>\n",
       "<table class=\"simpletable\">\n",
       "<tr>\n",
       "  <th>Omnibus:</th>       <td>29676.557</td> <th>  Durbin-Watson:     </th>   <td>   1.247</td>  \n",
       "</tr>\n",
       "<tr>\n",
       "  <th>Prob(Omnibus):</th>  <td> 0.000</td>   <th>  Jarque-Bera (JB):  </th> <td>19390738.346</td>\n",
       "</tr>\n",
       "<tr>\n",
       "  <th>Skew:</th>           <td> 6.889</td>   <th>  Prob(JB):          </th>   <td>    0.00</td>  \n",
       "</tr>\n",
       "<tr>\n",
       "  <th>Kurtosis:</th>       <td>145.559</td>  <th>  Cond. No.          </th>   <td>2.86e+05</td>  \n",
       "</tr>\n",
       "</table><br/><br/>Notes:<br/>[1] Standard Errors assume that the covariance matrix of the errors is correctly specified.<br/>[2] The condition number is large, 2.86e+05. This might indicate that there are<br/>strong multicollinearity or other numerical problems."
      ],
      "text/plain": [
       "<class 'statsmodels.iolib.summary.Summary'>\n",
       "\"\"\"\n",
       "                            OLS Regression Results                            \n",
       "==============================================================================\n",
       "Dep. Variable:           AdjSalePrice   R-squared:                       0.541\n",
       "Model:                            OLS   Adj. R-squared:                  0.540\n",
       "Method:                 Least Squares   F-statistic:                     5338.\n",
       "Date:                Mon, 12 Jul 2021   Prob (F-statistic):               0.00\n",
       "Time:                        11:08:42   Log-Likelihood:            -3.1517e+05\n",
       "No. Observations:               22687   AIC:                         6.304e+05\n",
       "Df Residuals:                   22681   BIC:                         6.304e+05\n",
       "Df Model:                           5                                         \n",
       "Covariance Type:            nonrobust                                         \n",
       "=================================================================================\n",
       "                    coef    std err          t      P>|t|      [0.025      0.975]\n",
       "---------------------------------------------------------------------------------\n",
       "SqFtTotLiving   228.8306      3.899     58.694      0.000     221.189     236.472\n",
       "SqFtLot          -0.0605      0.061     -0.988      0.323      -0.180       0.059\n",
       "Bathrooms     -1.944e+04   3625.388     -5.363      0.000   -2.65e+04   -1.23e+04\n",
       "Bedrooms      -4.777e+04   2489.732    -19.187      0.000   -5.27e+04   -4.29e+04\n",
       "BldgGrade      1.061e+05   2396.445     44.277      0.000    1.01e+05    1.11e+05\n",
       "const         -5.219e+05   1.57e+04    -33.342      0.000   -5.53e+05   -4.91e+05\n",
       "==============================================================================\n",
       "Omnibus:                    29676.557   Durbin-Watson:                   1.247\n",
       "Prob(Omnibus):                  0.000   Jarque-Bera (JB):         19390738.346\n",
       "Skew:                           6.889   Prob(JB):                         0.00\n",
       "Kurtosis:                     145.559   Cond. No.                     2.86e+05\n",
       "==============================================================================\n",
       "\n",
       "Notes:\n",
       "[1] Standard Errors assume that the covariance matrix of the errors is correctly specified.\n",
       "[2] The condition number is large, 2.86e+05. This might indicate that there are\n",
       "strong multicollinearity or other numerical problems.\n",
       "\"\"\""
      ]
     },
     "execution_count": 18,
     "metadata": {},
     "output_type": "execute_result"
    }
   ],
   "source": [
    "model=sm.OLS(house[outcome], house[predictors].assign(const=1))\n",
    "results=model.fit()\n",
    "results.summary()"
   ]
  },
  {
   "cell_type": "code",
   "execution_count": 20,
   "metadata": {
    "scrolled": true
   },
   "outputs": [
    {
     "data": {
      "text/html": [
       "<table class=\"simpletable\">\n",
       "<caption>OLS Regression Results</caption>\n",
       "<tr>\n",
       "  <th>Dep. Variable:</th>      <td>AdjSalePrice</td>   <th>  R-squared:         </th>  <td>   0.595</td>  \n",
       "</tr>\n",
       "<tr>\n",
       "  <th>Model:</th>                   <td>OLS</td>       <th>  Adj. R-squared:    </th>  <td>   0.594</td>  \n",
       "</tr>\n",
       "<tr>\n",
       "  <th>Method:</th>             <td>Least Squares</td>  <th>  F-statistic:       </th>  <td>   2771.</td>  \n",
       "</tr>\n",
       "<tr>\n",
       "  <th>Date:</th>             <td>Mon, 12 Jul 2021</td> <th>  Prob (F-statistic):</th>   <td>  0.00</td>   \n",
       "</tr>\n",
       "<tr>\n",
       "  <th>Time:</th>                 <td>11:25:09</td>     <th>  Log-Likelihood:    </th> <td>-3.1375e+05</td>\n",
       "</tr>\n",
       "<tr>\n",
       "  <th>No. Observations:</th>      <td> 22687</td>      <th>  AIC:               </th>  <td>6.275e+05</td> \n",
       "</tr>\n",
       "<tr>\n",
       "  <th>Df Residuals:</th>          <td> 22674</td>      <th>  BIC:               </th>  <td>6.276e+05</td> \n",
       "</tr>\n",
       "<tr>\n",
       "  <th>Df Model:</th>              <td>    12</td>      <th>                     </th>      <td> </td>     \n",
       "</tr>\n",
       "<tr>\n",
       "  <th>Covariance Type:</th>      <td>nonrobust</td>    <th>                     </th>      <td> </td>     \n",
       "</tr>\n",
       "</table>\n",
       "<table class=\"simpletable\">\n",
       "<tr>\n",
       "               <td></td>                 <th>coef</th>     <th>std err</th>      <th>t</th>      <th>P>|t|</th>  <th>[0.025</th>    <th>0.975]</th>  \n",
       "</tr>\n",
       "<tr>\n",
       "  <th>SqFtTotLiving</th>              <td>  198.6364</td> <td>    4.234</td> <td>   46.920</td> <td> 0.000</td> <td>  190.338</td> <td>  206.934</td>\n",
       "</tr>\n",
       "<tr>\n",
       "  <th>SqFtLot</th>                    <td>    0.0771</td> <td>    0.058</td> <td>    1.330</td> <td> 0.184</td> <td>   -0.037</td> <td>    0.191</td>\n",
       "</tr>\n",
       "<tr>\n",
       "  <th>Bathrooms</th>                  <td> 4.286e+04</td> <td> 3808.114</td> <td>   11.255</td> <td> 0.000</td> <td> 3.54e+04</td> <td> 5.03e+04</td>\n",
       "</tr>\n",
       "<tr>\n",
       "  <th>Bedrooms</th>                   <td>-5.187e+04</td> <td> 2396.904</td> <td>  -21.638</td> <td> 0.000</td> <td>-5.66e+04</td> <td>-4.72e+04</td>\n",
       "</tr>\n",
       "<tr>\n",
       "  <th>BldgGrade</th>                  <td> 1.373e+05</td> <td> 2441.242</td> <td>   56.228</td> <td> 0.000</td> <td> 1.32e+05</td> <td> 1.42e+05</td>\n",
       "</tr>\n",
       "<tr>\n",
       "  <th>NbrLivingUnits</th>             <td> 5723.8438</td> <td> 1.76e+04</td> <td>    0.326</td> <td> 0.744</td> <td>-2.87e+04</td> <td> 4.01e+04</td>\n",
       "</tr>\n",
       "<tr>\n",
       "  <th>SqFtFinBasement</th>            <td>    7.0611</td> <td>    4.627</td> <td>    1.526</td> <td> 0.127</td> <td>   -2.009</td> <td>   16.131</td>\n",
       "</tr>\n",
       "<tr>\n",
       "  <th>YrBuilt</th>                    <td>-3574.2210</td> <td>   77.228</td> <td>  -46.282</td> <td> 0.000</td> <td>-3725.593</td> <td>-3422.849</td>\n",
       "</tr>\n",
       "<tr>\n",
       "  <th>YrRenovated</th>                <td>   -2.5311</td> <td>    3.924</td> <td>   -0.645</td> <td> 0.519</td> <td>  -10.222</td> <td>    5.160</td>\n",
       "</tr>\n",
       "<tr>\n",
       "  <th>NewConstruction</th>            <td>-2489.1122</td> <td> 5936.692</td> <td>   -0.419</td> <td> 0.675</td> <td>-1.41e+04</td> <td> 9147.211</td>\n",
       "</tr>\n",
       "<tr>\n",
       "  <th>PropertyType_Single Family</th> <td> 2.997e+04</td> <td> 2.61e+04</td> <td>    1.149</td> <td> 0.251</td> <td>-2.12e+04</td> <td> 8.11e+04</td>\n",
       "</tr>\n",
       "<tr>\n",
       "  <th>PropertyType_Townhouse</th>     <td> 9.286e+04</td> <td>  2.7e+04</td> <td>    3.438</td> <td> 0.001</td> <td> 3.99e+04</td> <td> 1.46e+05</td>\n",
       "</tr>\n",
       "<tr>\n",
       "  <th>const</th>                      <td> 6.182e+06</td> <td> 1.55e+05</td> <td>   39.902</td> <td> 0.000</td> <td> 5.88e+06</td> <td> 6.49e+06</td>\n",
       "</tr>\n",
       "</table>\n",
       "<table class=\"simpletable\">\n",
       "<tr>\n",
       "  <th>Omnibus:</th>       <td>31006.128</td> <th>  Durbin-Watson:     </th>   <td>   1.393</td>  \n",
       "</tr>\n",
       "<tr>\n",
       "  <th>Prob(Omnibus):</th>  <td> 0.000</td>   <th>  Jarque-Bera (JB):  </th> <td>26251977.078</td>\n",
       "</tr>\n",
       "<tr>\n",
       "  <th>Skew:</th>           <td> 7.427</td>   <th>  Prob(JB):          </th>   <td>    0.00</td>  \n",
       "</tr>\n",
       "<tr>\n",
       "  <th>Kurtosis:</th>       <td>168.984</td>  <th>  Cond. No.          </th>   <td>2.98e+06</td>  \n",
       "</tr>\n",
       "</table><br/><br/>Notes:<br/>[1] Standard Errors assume that the covariance matrix of the errors is correctly specified.<br/>[2] The condition number is large, 2.98e+06. This might indicate that there are<br/>strong multicollinearity or other numerical problems."
      ],
      "text/plain": [
       "<class 'statsmodels.iolib.summary.Summary'>\n",
       "\"\"\"\n",
       "                            OLS Regression Results                            \n",
       "==============================================================================\n",
       "Dep. Variable:           AdjSalePrice   R-squared:                       0.595\n",
       "Model:                            OLS   Adj. R-squared:                  0.594\n",
       "Method:                 Least Squares   F-statistic:                     2771.\n",
       "Date:                Mon, 12 Jul 2021   Prob (F-statistic):               0.00\n",
       "Time:                        11:25:09   Log-Likelihood:            -3.1375e+05\n",
       "No. Observations:               22687   AIC:                         6.275e+05\n",
       "Df Residuals:                   22674   BIC:                         6.276e+05\n",
       "Df Model:                          12                                         \n",
       "Covariance Type:            nonrobust                                         \n",
       "==============================================================================================\n",
       "                                 coef    std err          t      P>|t|      [0.025      0.975]\n",
       "----------------------------------------------------------------------------------------------\n",
       "SqFtTotLiving                198.6364      4.234     46.920      0.000     190.338     206.934\n",
       "SqFtLot                        0.0771      0.058      1.330      0.184      -0.037       0.191\n",
       "Bathrooms                   4.286e+04   3808.114     11.255      0.000    3.54e+04    5.03e+04\n",
       "Bedrooms                   -5.187e+04   2396.904    -21.638      0.000   -5.66e+04   -4.72e+04\n",
       "BldgGrade                   1.373e+05   2441.242     56.228      0.000    1.32e+05    1.42e+05\n",
       "NbrLivingUnits              5723.8438   1.76e+04      0.326      0.744   -2.87e+04    4.01e+04\n",
       "SqFtFinBasement                7.0611      4.627      1.526      0.127      -2.009      16.131\n",
       "YrBuilt                    -3574.2210     77.228    -46.282      0.000   -3725.593   -3422.849\n",
       "YrRenovated                   -2.5311      3.924     -0.645      0.519     -10.222       5.160\n",
       "NewConstruction            -2489.1122   5936.692     -0.419      0.675   -1.41e+04    9147.211\n",
       "PropertyType_Single Family  2.997e+04   2.61e+04      1.149      0.251   -2.12e+04    8.11e+04\n",
       "PropertyType_Townhouse      9.286e+04    2.7e+04      3.438      0.001    3.99e+04    1.46e+05\n",
       "const                       6.182e+06   1.55e+05     39.902      0.000    5.88e+06    6.49e+06\n",
       "==============================================================================\n",
       "Omnibus:                    31006.128   Durbin-Watson:                   1.393\n",
       "Prob(Omnibus):                  0.000   Jarque-Bera (JB):         26251977.078\n",
       "Skew:                           7.427   Prob(JB):                         0.00\n",
       "Kurtosis:                     168.984   Cond. No.                     2.98e+06\n",
       "==============================================================================\n",
       "\n",
       "Notes:\n",
       "[1] Standard Errors assume that the covariance matrix of the errors is correctly specified.\n",
       "[2] The condition number is large, 2.98e+06. This might indicate that there are\n",
       "strong multicollinearity or other numerical problems.\n",
       "\"\"\""
      ]
     },
     "execution_count": 20,
     "metadata": {},
     "output_type": "execute_result"
    }
   ],
   "source": [
    "predictors = ['SqFtTotLiving', 'SqFtLot', 'Bathrooms', 'Bedrooms', 'BldgGrade',\n",
    "              'PropertyType', 'NbrLivingUnits', 'SqFtFinBasement', 'YrBuilt',\n",
    "              'YrRenovated', 'NewConstruction']\n",
    "X=pd.get_dummies(house[predictors], drop_first=True)\n",
    "X['NewConstruction']=[1 if nc else 0 for nc in X['NewConstruction']]\n",
    "house_full=sm.OLS(house[outcome],X.assign(const=1))\n",
    "results=house_full.fit()\n",
    "results.summary()"
   ]
  },
  {
   "cell_type": "code",
   "execution_count": 28,
   "metadata": {
    "scrolled": true
   },
   "outputs": [
    {
     "name": "stdout",
     "output_type": "stream",
     "text": [
      "Variables: SqFtTotLiving, SqFtLot, Bathrooms, Bedrooms, BldgGrade, NbrLivingUnits, SqFtFinBasement, YrBuilt, YrRenovated, NewConstruction, PropertyType_Single Family, PropertyType_Townhouse\n",
      "Start: score=647988.32, constant\n",
      "Step: score=633013.35, add SqFtTotLiving\n",
      "Step: score=630793.74, add BldgGrade\n",
      "Step: score=628230.29, add YrBuilt\n",
      "Step: score=627784.16, add Bedrooms\n",
      "Step: score=627602.21, add Bathrooms\n",
      "Step: score=627525.65, add PropertyType_Townhouse\n",
      "Step: score=627525.08, add SqFtFinBasement\n",
      "Step: score=627524.98, add PropertyType_Single Family\n",
      "Step: score=627524.98, unchanged None\n",
      "Intercept: 6178645.017\n",
      "Coefficients:\n",
      " SqFtTotLiving: 199.27755304201617\n",
      " BldgGrade: 137159.56022619744\n",
      " YrBuilt: -3565.4249392494553\n",
      " Bedrooms: -51947.38367361353\n",
      " Bathrooms: 42396.16452772067\n",
      " PropertyType_Townhouse: 84479.16203300106\n",
      " SqFtFinBasement: 7.04697496757506\n",
      " PropertyType_Single Family: 22912.055187017686\n"
     ]
    }
   ],
   "source": [
    "y=house[outcome]\n",
    "\n",
    "def train_model(variables):\n",
    "    if len(variables)==0:\n",
    "        return None\n",
    "    model=LinearRegression()\n",
    "    model.fit(X[variables],y)\n",
    "    return model\n",
    "    \n",
    "def score_model(model, variables):\n",
    "    if len(variables)==0:\n",
    "        return AIC_score(y,[y.mean()]*len(y), model, df=1)\n",
    "    return AIC_score(y, model.predict(X[variables]),model)\n",
    "\n",
    "best_model, best_variables = stepwise_selection(X.columns, train_model, score_model, verbose= True)\n",
    "print(f'Intercept: {best_model.intercept_:.3f}')\n",
    "print('Coefficients:')\n",
    "for name, coef in zip(best_variables, best_model.coef_):\n",
    "    print(f' {name}: {coef}')"
   ]
  },
  {
   "cell_type": "code",
   "execution_count": 32,
   "metadata": {},
   "outputs": [
    {
     "data": {
      "text/html": [
       "<div>\n",
       "<style scoped>\n",
       "    .dataframe tbody tr th:only-of-type {\n",
       "        vertical-align: middle;\n",
       "    }\n",
       "\n",
       "    .dataframe tbody tr th {\n",
       "        vertical-align: top;\n",
       "    }\n",
       "\n",
       "    .dataframe thead th {\n",
       "        text-align: right;\n",
       "    }\n",
       "</style>\n",
       "<table border=\"1\" class=\"dataframe\">\n",
       "  <thead>\n",
       "    <tr style=\"text-align: right;\">\n",
       "      <th></th>\n",
       "      <th>predictor</th>\n",
       "      <th>house_lm</th>\n",
       "      <th>house_wt</th>\n",
       "    </tr>\n",
       "  </thead>\n",
       "  <tbody>\n",
       "    <tr>\n",
       "      <th>0</th>\n",
       "      <td>SqFtTotLiving</td>\n",
       "      <td>228.830604</td>\n",
       "      <td>245.024089</td>\n",
       "    </tr>\n",
       "    <tr>\n",
       "      <th>1</th>\n",
       "      <td>SqFtLot</td>\n",
       "      <td>-0.060467</td>\n",
       "      <td>-0.292415</td>\n",
       "    </tr>\n",
       "    <tr>\n",
       "      <th>2</th>\n",
       "      <td>Bathrooms</td>\n",
       "      <td>-19442.840398</td>\n",
       "      <td>-26085.970109</td>\n",
       "    </tr>\n",
       "    <tr>\n",
       "      <th>3</th>\n",
       "      <td>Bedrooms</td>\n",
       "      <td>-47769.955185</td>\n",
       "      <td>-53608.876436</td>\n",
       "    </tr>\n",
       "    <tr>\n",
       "      <th>4</th>\n",
       "      <td>BldgGrade</td>\n",
       "      <td>106106.963079</td>\n",
       "      <td>115242.434726</td>\n",
       "    </tr>\n",
       "    <tr>\n",
       "      <th>5</th>\n",
       "      <td>intercept</td>\n",
       "      <td>-521871.368188</td>\n",
       "      <td>-584189.329446</td>\n",
       "    </tr>\n",
       "  </tbody>\n",
       "</table>\n",
       "</div>"
      ],
      "text/plain": [
       "       predictor       house_lm       house_wt\n",
       "0  SqFtTotLiving     228.830604     245.024089\n",
       "1        SqFtLot      -0.060467      -0.292415\n",
       "2      Bathrooms  -19442.840398  -26085.970109\n",
       "3       Bedrooms  -47769.955185  -53608.876436\n",
       "4      BldgGrade  106106.963079  115242.434726\n",
       "5      intercept -521871.368188 -584189.329446"
      ]
     },
     "execution_count": 32,
     "metadata": {},
     "output_type": "execute_result"
    }
   ],
   "source": [
    "house['Year']=[int(date.split('-')[0]) for date in house. DocumentDate]\n",
    "house['weight']=house.Year -2005\n",
    "predictors = ['SqFtTotLiving', 'SqFtLot', 'Bathrooms', 'Bedrooms', 'BldgGrade']\n",
    "outcome = 'AdjSalePrice'\n",
    "house_wt=LinearRegression()\n",
    "house_wt.fit(house[predictors], house[outcome], sample_weight=house.weight)\n",
    "pd.DataFrame({\n",
    "    'predictor': predictors,\n",
    "    'house_lm' : house_lm.coef_,\n",
    "    'house_wt' : house_wt.coef_,\n",
    "}).append({\n",
    "    'predictor' : 'intercept',\n",
    "    'house_lm'  : house_lm.intercept_,\n",
    "    'house_wt'  : house_wt.intercept_\n",
    "}, ignore_index=True)"
   ]
  },
  {
   "cell_type": "code",
   "execution_count": 33,
   "metadata": {},
   "outputs": [
    {
     "data": {
      "text/plain": [
       "1360753"
      ]
     },
     "execution_count": 33,
     "metadata": {},
     "output_type": "execute_result"
    }
   ],
   "source": [
    "1605687-(2*122467)"
   ]
  }
 ],
 "metadata": {
  "kernelspec": {
   "display_name": "Python 3",
   "language": "python",
   "name": "python3"
  },
  "language_info": {
   "codemirror_mode": {
    "name": "ipython",
    "version": 3
   },
   "file_extension": ".py",
   "mimetype": "text/x-python",
   "name": "python",
   "nbconvert_exporter": "python",
   "pygments_lexer": "ipython3",
   "version": "3.8.5"
  }
 },
 "nbformat": 4,
 "nbformat_minor": 4
}
